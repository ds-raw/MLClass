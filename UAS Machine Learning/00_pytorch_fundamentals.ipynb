{
  "cells": [
    {
      "cell_type": "markdown",
      "metadata": {
        "id": "view-in-github",
        "colab_type": "text"
      },
      "source": [
        "<a href=\"https://colab.research.google.com/github/ds-raw/MLClass/blob/main/UAS%20Machine%20Learning/00_pytorch_fundamentals.ipynb\" target=\"_parent\"><img src=\"https://colab.research.google.com/assets/colab-badge.svg\" alt=\"Open In Colab\"/></a>"
      ]
    },
    {
      "cell_type": "markdown",
      "metadata": {
        "id": "5v3iRCRUTGeu"
      },
      "source": [
        "## Importing PyTorch"
      ]
    },
    {
      "cell_type": "code",
      "execution_count": null,
      "metadata": {
        "colab": {
          "base_uri": "https://localhost:8080/",
          "height": 35
        },
        "id": "1VxEOik46Y4i",
        "outputId": "26363621-6077-471c-8924-27a7f42f5af0"
      },
      "outputs": [
        {
          "output_type": "execute_result",
          "data": {
            "text/plain": [
              "'2.1.0+cu121'"
            ],
            "application/vnd.google.colaboratory.intrinsic+json": {
              "type": "string"
            }
          },
          "metadata": {},
          "execution_count": 1
        }
      ],
      "source": [
        "import torch\n",
        "torch.__version__"
      ]
    },
    {
      "cell_type": "code",
      "source": [],
      "metadata": {
        "id": "E7MY1YgwtpO-"
      },
      "execution_count": null,
      "outputs": []
    },
    {
      "cell_type": "markdown",
      "metadata": {
        "id": "i-33BKR16iWc"
      },
      "source": [
        "## Introduction to tensors\n",
        "\n",
        "Sekarang kita telah mengimpor PyTorch, saatnya mempelajari tentang tensor.\n",
        "\n",
        "Tensor adalah elemen dasar pembelajaran mesin.\n",
        "\n",
        "Tugas mereka adalah merepresentasikan data secara numerik.\n",
        "\n",
        "Misalnya, Anda dapat merepresentasikan gambar sebagai tensor dengan bentuk [3, 224, 224] yang artinya [saluran_warna, tinggi, lebar], karena pada gambar memiliki 3 saluran warna (merah, hijau, biru), tingginya 224 piksel dan lebar 224 piksel..\n",
        "\n",
        "![example of going from an input image to a tensor representation of the image, image gets broken down into 3 colour channels as well as numbers to represent the height and width](https://raw.githubusercontent.com/mrdbourke/pytorch-deep-learning/main/images/00-tensor-shape-example-of-image.png)\n",
        "\n",
        "Dalam bahasa tensor (bahasa yang digunakan untuk mendeskripsikan tensor), tensor akan memiliki tiga dimensi, satu untuk `saluran_warna`, `tinggi`, dan `lebar`.\n",
        "\n",
        "Tapi kita lebih maju dari diri kita sendiri.\n",
        "\n",
        "Mari pelajari lebih lanjut tentang tensor dengan mengkodekannya."
      ]
    },
    {
      "cell_type": "markdown",
      "metadata": {
        "id": "gFF0N2TU7S7Q"
      },
      "source": [
        "### Creating tensors\n",
        "\n",
        "PyTorch menyukai tensor. Sedemikian rupa sehingga ada seluruh halaman dokumentasi yang didedikasikan untuk kelas [`torch.Tensor`](https://pytorch.org/docs/stable/tensors.html).\n",
        "\n",
        "Pekerjaan rumah pertama Anda adalah [membaca dokumentasi di `torch.Tensor`](https://pytorch.org/docs/stable/tensors.html) selama 10 menit. Tapi Anda bisa membahasnya nanti.\n",
        "\n",
        "Mari membuat kode.\n",
        "\n",
        "Hal pertama yang akan kita buat adalah **skalar**.\n",
        "\n",
        "Skalar adalah bilangan tunggal dan dalam istilah tensor merupakan tensor berdimensi nol."
      ]
    },
    {
      "cell_type": "code",
      "execution_count": null,
      "metadata": {
        "colab": {
          "base_uri": "https://localhost:8080/"
        },
        "id": "YUDgG2zk7Us5",
        "outputId": "947fa14a-274c-4f21-8c2d-8b6c5775f2fe"
      },
      "outputs": [
        {
          "output_type": "execute_result",
          "data": {
            "text/plain": [
              "tensor(7)"
            ]
          },
          "metadata": {},
          "execution_count": 2
        }
      ],
      "source": [
        "# Scalar\n",
        "scalar = torch.tensor(7)\n",
        "scalar"
      ]
    },
    {
      "cell_type": "markdown",
      "metadata": {
        "id": "JqSuhW7rTGey"
      },
      "source": [
        "Lihat bagaimana `tensor(7)` di atas dicetak?\n",
        "\n",
        "Artinya, meskipun `skalar` adalah angka tunggal, ia bertipe `torch.Tensor`.\n",
        "\n",
        "Kita dapat memeriksa dimensi tensor menggunakan atribut `ndim`."
      ]
    },
    {
      "cell_type": "code",
      "execution_count": null,
      "metadata": {
        "colab": {
          "base_uri": "https://localhost:8080/"
        },
        "id": "lV98Yz868bav",
        "outputId": "9f09b5ae-f57d-40c4-8de8-024609d18f24"
      },
      "outputs": [
        {
          "output_type": "execute_result",
          "data": {
            "text/plain": [
              "0"
            ]
          },
          "metadata": {},
          "execution_count": 3
        }
      ],
      "source": [
        "scalar.ndim"
      ]
    },
    {
      "cell_type": "markdown",
      "metadata": {
        "id": "ZO2YW_QGTGez"
      },
      "source": [
        "Bagaimana jika kita ingin mengambil nomor dari tensor?\n",
        "\n",
        "Misalnya, ubah dari `torch.Tensor` menjadi bilangan bulat Python?\n",
        "\n",
        "Untuk melakukannya kita dapat menggunakan metode `item()`.\n",
        "\n",
        "\n",
        "To do we can use the `item()` method."
      ]
    },
    {
      "cell_type": "code",
      "execution_count": null,
      "metadata": {
        "colab": {
          "base_uri": "https://localhost:8080/"
        },
        "id": "-k4cyKumPfbE",
        "outputId": "5eb6e6cf-22c9-4e44-dd70-da63e2bbc40a"
      },
      "outputs": [
        {
          "output_type": "execute_result",
          "data": {
            "text/plain": [
              "7"
            ]
          },
          "metadata": {},
          "execution_count": 4
        }
      ],
      "source": [
        "# Get the Python number within a tensor (only works with one-element tensors)\n",
        "scalar.item()"
      ]
    },
    {
      "cell_type": "markdown",
      "metadata": {
        "id": "qYs7ulrATGe0"
      },
      "source": [
        "Oke, sekarang mari kita lihat **vektor**.\n",
        "\n",
        "Vektor adalah tensor berdimensi tunggal tetapi dapat memuat banyak bilangan.\n",
        "\n",
        "Misalnya, Anda dapat memiliki vektor `[3, 2]` untuk mendeskripsikan `[kamar tidur, kamar mandi]` di rumah Anda. Atau Anda dapat menggunakan `[3, 2, 2]` untuk mendeskripsikan `[kamar tidur, kamar mandi, tempat parkir mobil]` di rumah Anda.\n",
        "\n",
        "Tren penting di sini adalah bahwa suatu vektor fleksibel dalam hal apa yang dapat diwakilinya (sama dengan tensor)."
      ]
    },
    {
      "cell_type": "code",
      "execution_count": null,
      "metadata": {
        "colab": {
          "base_uri": "https://localhost:8080/"
        },
        "id": "-IZF6ASs8QH9",
        "outputId": "8a96693c-793e-4ccb-fbe7-6da2b989d298"
      },
      "outputs": [
        {
          "output_type": "execute_result",
          "data": {
            "text/plain": [
              "tensor([7, 7])"
            ]
          },
          "metadata": {},
          "execution_count": 5
        }
      ],
      "source": [
        "# Vector\n",
        "vector = torch.tensor([7, 7])\n",
        "vector"
      ]
    },
    {
      "cell_type": "markdown",
      "metadata": {
        "id": "mXxRUUW2TGe1"
      },
      "source": [
        "Hebatnya, `vektor` sekarang berisi dua angka 7, angka favorit saya.\n",
        "\n",
        "Menurut Anda, berapa banyak dimensi yang dimilikinya?"
      ]
    },
    {
      "cell_type": "code",
      "execution_count": null,
      "metadata": {
        "colab": {
          "base_uri": "https://localhost:8080/"
        },
        "id": "03hm3VVv8kr4",
        "outputId": "e59464ae-b9e5-4dbf-ec12-01c820ab2cc4"
      },
      "outputs": [
        {
          "output_type": "execute_result",
          "data": {
            "text/plain": [
              "1"
            ]
          },
          "metadata": {},
          "execution_count": 6
        }
      ],
      "source": [
        "# Check the number of dimensions of vector\n",
        "vector.ndim"
      ]
    },
    {
      "cell_type": "markdown",
      "metadata": {
        "id": "W0VYvSGbTGe1"
      },
      "source": [
        "Hmm aneh, `vektor` berisi dua angka tetapi hanya memiliki satu dimensi.\n",
        "\n",
        "Saya akan memberi tahu Anda sebuah trik.\n",
        "\n",
        "Anda dapat mengetahui jumlah dimensi yang dimiliki tensor di PyTorch dengan jumlah tanda kurung siku di bagian luarnya (`[`) dan Anda hanya perlu menghitung satu sisinya.\n",
        "\n",
        "Berapa banyak tanda kurung siku yang dimiliki `vektor`?\n",
        "\n",
        "Konsep penting lainnya untuk tensor adalah atribut `bentuknya`. Bentuknya memberi tahu Anda bagaimana elemen-elemen di dalamnya disusun.\n",
        "\n",
        "Mari kita periksa bentuk `vektor`."
      ]
    },
    {
      "cell_type": "code",
      "execution_count": null,
      "metadata": {
        "colab": {
          "base_uri": "https://localhost:8080/"
        },
        "id": "6zREV1bDTGe2",
        "outputId": "507a93da-d78b-43c0-d1c2-7aad71cbbf7a"
      },
      "outputs": [
        {
          "output_type": "execute_result",
          "data": {
            "text/plain": [
              "torch.Size([2])"
            ]
          },
          "metadata": {},
          "execution_count": 7
        }
      ],
      "source": [
        "# Check shape of vector\n",
        "vector.shape"
      ]
    },
    {
      "cell_type": "markdown",
      "metadata": {
        "id": "9aWKppNyTGe2"
      },
      "source": [
        "Di atas mengembalikan `torch.Size([2])` yang berarti vektor kita berbentuk `[2]`. Ini karena dua elemen yang kita tempatkan di dalam tanda kurung siku (`[7, 7]`).\n",
        "\n",
        "Sekarang mari kita lihat **matriks**."
      ]
    },
    {
      "cell_type": "code",
      "execution_count": null,
      "metadata": {
        "colab": {
          "base_uri": "https://localhost:8080/"
        },
        "id": "D5iNwCYL8QO9",
        "outputId": "87ae590d-1d78-4203-853f-196d80cb9a50"
      },
      "outputs": [
        {
          "output_type": "execute_result",
          "data": {
            "text/plain": [
              "tensor([[ 7,  8],\n",
              "        [ 9, 10]])"
            ]
          },
          "metadata": {},
          "execution_count": 8
        }
      ],
      "source": [
        "# Matrix\n",
        "MATRIX = torch.tensor([[7, 8],\n",
        "                       [9, 10]])\n",
        "MATRIX"
      ]
    },
    {
      "cell_type": "markdown",
      "metadata": {
        "id": "a3U1bCdjTGe3"
      },
      "source": [
        "Wow! Lebih banyak angka! Matriks sama fleksibelnya dengan vektor, hanya saja matriks tersebut mempunyai dimensi ekstra."
      ]
    },
    {
      "cell_type": "code",
      "execution_count": null,
      "metadata": {
        "colab": {
          "base_uri": "https://localhost:8080/"
        },
        "id": "8LREUbeb8r8j",
        "outputId": "a4ce1d44-c3b5-479f-f3f7-390cae8801ee"
      },
      "outputs": [
        {
          "output_type": "execute_result",
          "data": {
            "text/plain": [
              "2"
            ]
          },
          "metadata": {},
          "execution_count": 9
        }
      ],
      "source": [
        "# Check number of dimensions\n",
        "MATRIX.ndim"
      ]
    },
    {
      "cell_type": "markdown",
      "metadata": {
        "id": "LhXXgq-dTGe3"
      },
      "source": [
        "`MATRIX` mempunyai dua dimensi (apakah Anda menghitung jumlah tanda kurung siku di luar salah satu sisinya?).\n",
        "\n",
        "Menurut Anda `bentuk` apa yang akan dimilikinya?"
      ]
    },
    {
      "cell_type": "code",
      "execution_count": null,
      "metadata": {
        "colab": {
          "base_uri": "https://localhost:8080/"
        },
        "id": "_TL26I31TGe3",
        "outputId": "6ded6c25-7181-4865-b3e5-0963d3422c25"
      },
      "outputs": [
        {
          "output_type": "execute_result",
          "data": {
            "text/plain": [
              "torch.Size([2, 2])"
            ]
          },
          "metadata": {},
          "execution_count": 10
        }
      ],
      "source": [
        "MATRIX.shape"
      ]
    },
    {
      "cell_type": "markdown",
      "metadata": {
        "id": "dvLpUvrKTGe4"
      },
      "source": [
        "Kita mendapatkan keluaran `torch.Size([2, 2])` karena `MATRIX` memiliki kedalaman dua elemen dan lebar dua elemen.\n",
        "\n",
        "Bagaimana kalau kita membuat **tensor**?"
      ]
    },
    {
      "cell_type": "code",
      "execution_count": null,
      "metadata": {
        "colab": {
          "base_uri": "https://localhost:8080/"
        },
        "id": "wEMDQr188QWW",
        "outputId": "ed1e1318-ce60-492b-c56e-33c4bcdb8bdc"
      },
      "outputs": [
        {
          "output_type": "execute_result",
          "data": {
            "text/plain": [
              "tensor([[[1, 2, 3],\n",
              "         [3, 6, 9],\n",
              "         [2, 4, 5]]])"
            ]
          },
          "metadata": {},
          "execution_count": 11
        }
      ],
      "source": [
        "# Tensor\n",
        "TENSOR = torch.tensor([[[1, 2, 3],\n",
        "                        [3, 6, 9],\n",
        "                        [2, 4, 5]]])\n",
        "TENSOR"
      ]
    },
    {
      "cell_type": "markdown",
      "metadata": {
        "id": "UmJKkXD7TGe4"
      },
      "source": [
        "Wow! Tensor yang terlihat bagus.\n",
        "\n",
        "Saya ingin menekankan bahwa tensor dapat mewakili hampir semua hal.\n",
        "\n",
        "Yang baru saja kita buat bisa jadi adalah angka penjualan toko steak dan mentega almond (dua makanan favorit saya).\n",
        "\n",
        "![tensor sederhana di lembar Google yang menampilkan hari dalam seminggu, penjualan steak, dan penjualan mentega almond](https://raw.githubusercontent.com/mrdbourke/pytorch-deep-learning/main/images/00_simple_tensor.png)\n",
        "\n",
        "Menurut Anda, berapa banyak dimensi yang dimilikinya? (petunjuk: gunakan trik menghitung tanda kurung siku)"
      ]
    },
    {
      "cell_type": "code",
      "execution_count": null,
      "metadata": {
        "colab": {
          "base_uri": "https://localhost:8080/"
        },
        "id": "8dhuEsjS8QcT",
        "outputId": "610afda9-4602-4294-f7ba-e810741132a7"
      },
      "outputs": [
        {
          "output_type": "execute_result",
          "data": {
            "text/plain": [
              "3"
            ]
          },
          "metadata": {},
          "execution_count": 12
        }
      ],
      "source": [
        "# Check number of dimensions for TENSOR\n",
        "TENSOR.ndim"
      ]
    },
    {
      "cell_type": "markdown",
      "metadata": {
        "id": "ln9dys5VTGe4"
      },
      "source": [
        "Lalu bagaimana dengan bentuknya?"
      ]
    },
    {
      "cell_type": "code",
      "execution_count": null,
      "metadata": {
        "colab": {
          "base_uri": "https://localhost:8080/"
        },
        "id": "hdVv4iNRTGe5",
        "outputId": "db89b464-57fd-44a0-edfb-a0d1164ff490"
      },
      "outputs": [
        {
          "output_type": "execute_result",
          "data": {
            "text/plain": [
              "torch.Size([1, 3, 3])"
            ]
          },
          "metadata": {},
          "execution_count": 13
        }
      ],
      "source": [
        "# Check shape of TENSOR\n",
        "TENSOR.shape"
      ]
    },
    {
      "cell_type": "markdown",
      "metadata": {
        "id": "zxk8GU7oTGe5"
      },
      "source": [
        "Baiklah, ini menghasilkan `torch.Size([1, 3, 3])`.\n",
        "\n",
        "Dimensinya dari luar ke dalam.\n",
        "\n",
        "Artinya ada 1 dimensi 3 kali 3.\n",
        "\n",
        "![contoh dimensi tensor yang berbeda](https://raw.githubusercontent.com/mrdbourke/pytorch-deep-learning/main/images/00-pytorch-different-tensor-dimensions.png)\n",
        "\n",
        "> **Catatan:** Anda mungkin memperhatikan saya menggunakan huruf kecil untuk `skalar` dan `vektor` serta huruf besar untuk `MATRIX` dan `TENSOR`. Ini memang disengaja. Dalam praktiknya, Anda akan sering melihat skalar dan vektor dilambangkan dengan huruf kecil seperti `y` atau `a`. Dan matriks dan tensor dilambangkan dengan huruf besar seperti `X` atau `W`.\n",
        ">\n",
        "> Anda juga mungkin memperhatikan nama martrix dan tensor digunakan secara bergantian. Ini biasa terjadi. Karena di PyTorch Anda sering berurusan dengan `torch.Tensor`s (karena itulah nama tensornya), namun bentuk dan dimensi isi akan menentukan isi sebenarnya.\n",
        "\n",
        "Mari kita rangkum.\n",
        "\n",
        "| Nama | Apa itu? | Jumlah dimensi | Bawah atau atas (biasanya/contoh) |\n",
        "| ----- | ----- | ----- | ----- |\n",
        "| **skalar** | satu nomor | 0 | Lebih rendah (`a`) |\n",
        "| **vektor** | angka dengan arah (misalnya kecepatan angin dengan arah) tetapi bisa juga memiliki banyak angka lainnya | 1 | Bawah (`y`) |\n",
        "| **matriks** | array angka 2 dimensi | 2 | Atas (`Q`) |\n",
        "| **tensor** | array bilangan berdimensi n | bisa berupa bilangan apa pun, tensor 0 dimensi adalah skalar, tensor 1 dimensi adalah vektor | Atas (`X`) |\n",
        "\n",
        "![tensor matriks vektor skalar dan tampilannya](https://raw.githubusercontent.com/mrdbourke/pytorch-deep-learning/main/images/00-scalar-vector-matrix-tensor.png)"
      ]
    },
    {
      "cell_type": "markdown",
      "metadata": {
        "id": "dms7G4nkTGe5"
      },
      "source": [
        "### Random tensors\n",
        "\n",
        "Kami telah menetapkan tensor yang mewakili beberapa bentuk data.\n",
        "\n",
        "Dan model pembelajaran mesin seperti jaringan saraf memanipulasi dan mencari pola dalam tensor.\n",
        "\n",
        "Namun saat membuat model pembelajaran mesin dengan PyTorch, jarang sekali Anda membuat tensor dengan tangan (seperti yang sedang kami lakukan).\n",
        "\n",
        "Sebaliknya, model pembelajaran mesin sering kali dimulai dengan tensor angka acak yang besar dan menyesuaikan angka acak tersebut saat model tersebut bekerja melalui data untuk merepresentasikannya dengan lebih baik.\n",
        "\n",
        "Intinya:\n",
        "\n",
        "`Mulai dengan angka acak -> lihat data -> perbarui nomor acak -> lihat data -> perbarui nomor acak...`\n",
        "\n",
        "Sebagai data scientist, Anda dapat menentukan cara model pembelajaran mesin dimulai (inisialisasi), melihat data (representasi), dan memperbarui (optimasi) angka acaknya.\n",
        "\n",
        "Kami akan langsung melakukan langkah-langkah ini nanti.\n",
        "\n",
        "Untuk saat ini, mari kita lihat cara membuat tensor bilangan acak.\n",
        "\n",
        "Kita dapat melakukannya menggunakan [`torch.rand()`](https://pytorch.org/docs/stable/generated/torch.rand.html) dan meneruskan parameter `size`."
      ]
    },
    {
      "cell_type": "code",
      "execution_count": null,
      "metadata": {
        "colab": {
          "base_uri": "https://localhost:8080/"
        },
        "id": "EOJEtDx--GnK",
        "outputId": "357fd170-9c97-4921-83e4-318533c3c000"
      },
      "outputs": [
        {
          "output_type": "execute_result",
          "data": {
            "text/plain": [
              "(tensor([[0.8922, 0.4360, 0.3222, 0.1369],\n",
              "         [0.7514, 0.5605, 0.2706, 0.7167],\n",
              "         [0.6146, 0.5510, 0.7605, 0.6603]]),\n",
              " torch.float32)"
            ]
          },
          "metadata": {},
          "execution_count": 14
        }
      ],
      "source": [
        "# Create a random tensor of size (3, 4)\n",
        "random_tensor = torch.rand(size=(3, 4))\n",
        "random_tensor, random_tensor.dtype"
      ]
    },
    {
      "cell_type": "markdown",
      "metadata": {
        "id": "-wB1c_cXTGe5"
      },
      "source": [
        "Fleksibilitas dari `torch.rand()` adalah kita dapat mengatur `ukuran` menjadi apapun yang kita inginkan.\n",
        "\n",
        "Misalnya, Anda menginginkan tensor acak dalam bentuk gambar umum `[224, 224, 3]` (`[tinggi, lebar, saluran_warna`]).\n"
      ]
    },
    {
      "cell_type": "code",
      "execution_count": null,
      "metadata": {
        "colab": {
          "base_uri": "https://localhost:8080/"
        },
        "id": "xMF_NUp3Ym__",
        "outputId": "3137eaae-1854-4aac-eac7-a697780caec0"
      },
      "outputs": [
        {
          "output_type": "execute_result",
          "data": {
            "text/plain": [
              "(torch.Size([224, 224, 3]), 3)"
            ]
          },
          "metadata": {},
          "execution_count": 15
        }
      ],
      "source": [
        "# Create a random tensor of size (224, 224, 3)\n",
        "random_image_size_tensor = torch.rand(size=(224, 224, 3))\n",
        "random_image_size_tensor.shape, random_image_size_tensor.ndim"
      ]
    },
    {
      "cell_type": "markdown",
      "metadata": {
        "id": "0MQNTY0eTGe6"
      },
      "source": [
        "### Zeros and ones\n",
        "\n",
        "Terkadang Anda hanya ingin mengisi tensor dengan nol atau satu.\n",
        "\n",
        "Hal ini sering terjadi dengan masking (seperti menutupi beberapa nilai dalam satu tensor dengan nol agar model tahu untuk tidak mempelajarinya).\n",
        "\n",
        "Mari kita buat tensor yang penuh dengan angka nol dengan [`torch.zeros()`](https://pytorch.org/docs/stable/generated/torch.zeros.html)\n",
        "\n",
        "Sekali lagi, parameter `ukuran` ikut berperan."
      ]
    },
    {
      "cell_type": "code",
      "execution_count": null,
      "metadata": {
        "colab": {
          "base_uri": "https://localhost:8080/"
        },
        "id": "oCzhd0hl9Vp6",
        "outputId": "ac8e5310-9808-438d-a01a-43a48510ac55"
      },
      "outputs": [
        {
          "output_type": "execute_result",
          "data": {
            "text/plain": [
              "(tensor([[0., 0., 0., 0.],\n",
              "         [0., 0., 0., 0.],\n",
              "         [0., 0., 0., 0.]]),\n",
              " torch.float32)"
            ]
          },
          "metadata": {},
          "execution_count": 16
        }
      ],
      "source": [
        "# Create a tensor of all zeros\n",
        "zeros = torch.zeros(size=(3, 4))\n",
        "zeros, zeros.dtype"
      ]
    },
    {
      "cell_type": "markdown",
      "metadata": {
        "id": "WDQBZJRUZWTN"
      },
      "source": [
        "Kita dapat melakukan hal yang sama untuk membuat tensor semuanya kecuali menggunakan [`torch.ones()` ](https://pytorch.org/docs/stable/generated/torch.ones.html) sebagai gantinya."
      ]
    },
    {
      "cell_type": "code",
      "execution_count": null,
      "metadata": {
        "colab": {
          "base_uri": "https://localhost:8080/"
        },
        "id": "HRe6sSXiTGe6",
        "outputId": "80ea6b14-b079-4dda-b5af-7691e4544ea3"
      },
      "outputs": [
        {
          "output_type": "execute_result",
          "data": {
            "text/plain": [
              "(tensor([[1., 1., 1., 1.],\n",
              "         [1., 1., 1., 1.],\n",
              "         [1., 1., 1., 1.]]),\n",
              " torch.float32)"
            ]
          },
          "metadata": {},
          "execution_count": 17
        }
      ],
      "source": [
        "# Create a tensor of all ones\n",
        "ones = torch.ones(size=(3, 4))\n",
        "ones, ones.dtype"
      ]
    },
    {
      "cell_type": "markdown",
      "metadata": {
        "id": "hib1NYrSarL2"
      },
      "source": [
        "### Creating a range and tensors like\n",
        "\n",
        "Terkadang Anda mungkin menginginkan rentang angka, seperti 1 hingga 10 atau 0 hingga 100.\n",
        "\n",
        "Anda dapat menggunakan `torch.arange(start, end, step)` untuk melakukannya.\n",
        "\n",
        "Di mana:\n",
        "* `start` = awal rentang (misalnya 0)\n",
        "* `end` = akhir rentang (misalnya 10)\n",
        "* `langkah` = berapa banyak langkah di antara setiap nilai (misalnya 1)\n",
        "\n",
        "> **Catatan:** Dengan Python, Anda dapat menggunakan `range()` untuk membuat rentang. Namun di PyTorch, `torch.range()` tidak digunakan lagi dan mungkin menampilkan kesalahan di masa mendatang."
      ]
    },
    {
      "cell_type": "code",
      "execution_count": null,
      "metadata": {
        "colab": {
          "base_uri": "https://localhost:8080/"
        },
        "id": "1IqUs81d9W4W",
        "outputId": "072ba5b2-02c1-435c-cbb6-08be24ff8122"
      },
      "outputs": [
        {
          "output_type": "stream",
          "name": "stderr",
          "text": [
            "<ipython-input-18-a404776195c1>:2: UserWarning: torch.range is deprecated and will be removed in a future release because its behavior is inconsistent with Python's range builtin. Instead, use torch.arange, which produces values in [start, end).\n",
            "  zero_to_ten_deprecated = torch.range(0, 10) # Note: this may return an error in the future\n"
          ]
        },
        {
          "output_type": "execute_result",
          "data": {
            "text/plain": [
              "tensor([0, 1, 2, 3, 4, 5, 6, 7, 8, 9])"
            ]
          },
          "metadata": {},
          "execution_count": 18
        }
      ],
      "source": [
        "# Use torch.arange(), torch.range() is deprecated\n",
        "zero_to_ten_deprecated = torch.range(0, 10) # Note: this may return an error in the future\n",
        "\n",
        "# Create a range of values 0 to 10\n",
        "zero_to_ten = torch.arange(start=0, end=10, step=1)\n",
        "zero_to_ten"
      ]
    },
    {
      "cell_type": "markdown",
      "metadata": {
        "id": "i-bXf0Ugbh-D"
      },
      "source": [
        "Terkadang Anda mungkin menginginkan satu tensor jenis tertentu dengan bentuk yang sama dengan tensor lainnya.\n",
        "\n",
        "Misalnya tensor yang semuanya nol dengan bentuk yang sama dengan tensor sebelumnya.\n",
        "\n",
        "Untuk melakukannya, Anda dapat menggunakan [`torch.zeros_like(input)`](https://pytorch.org/docs/stable/generated/torch.zeros_like.html) atau [`torch.ones_like(input)`](https ://pytorch.org/docs/1.9.1/generated/torch.ones_like.html) yang mengembalikan tensor yang diisi dengan nol atau satu dalam bentuk yang sama dengan `input`."
      ]
    },
    {
      "cell_type": "code",
      "execution_count": null,
      "metadata": {
        "colab": {
          "base_uri": "https://localhost:8080/"
        },
        "id": "ZvXwUut5BhHq",
        "outputId": "e5d3ecfe-e145-4093-f4d1-2d556382aa61"
      },
      "outputs": [
        {
          "output_type": "execute_result",
          "data": {
            "text/plain": [
              "tensor([0, 0, 0, 0, 0, 0, 0, 0, 0, 0])"
            ]
          },
          "metadata": {},
          "execution_count": 19
        }
      ],
      "source": [
        "# Can also create a tensor of zeros similar to another tensor\n",
        "ten_zeros = torch.zeros_like(input=zero_to_ten) # will have same shape\n",
        "ten_zeros"
      ]
    },
    {
      "cell_type": "markdown",
      "metadata": {
        "id": "huKZ6QlYTGe7"
      },
      "source": [
        "### Tensor datatypes\n",
        "\n",
        "Ada banyak [tipe data tensor yang tersedia di PyTorch](https://pytorch.org/docs/stable/tensors.html#data-types).\n",
        "\n",
        "Ada yang khusus untuk CPU dan ada pula yang lebih baik untuk GPU.\n",
        "\n",
        "Mengenal mana yang membutuhkan waktu.\n",
        "\n",
        "Umumnya jika Anda melihat `torch.cuda` di mana pun, tensornya digunakan untuk GPU (karena GPU Nvidia menggunakan perangkat komputasi yang disebut CUDA).\n",
        "\n",
        "Jenis yang paling umum (dan umumnya default) adalah `torch.float32` atau `torch.float`.\n",
        "\n",
        "Ini disebut sebagai \"titik mengambang 32-bit\".\n",
        "\n",
        "Namun ada juga floating point 16-bit (`torch.float16` atau `torch.half`) dan floating point 64-bit (`torch.float64` atau `torch.double`).\n",
        "\n",
        "Dan yang lebih membingungkan lagi, ada juga bilangan bulat 8-bit, 16-bit, 32-bit, dan 64-bit.\n",
        "\n",
        "Ditambah lagi!\n",
        "\n",
        "> **Catatan:** Bilangan bulat adalah bilangan bulat datar seperti `7` sedangkan bilangan bulat memiliki desimal `7,0`.\n",
        "\n",
        "Alasan semua ini berkaitan dengan **presisi dalam komputasi**.\n",
        "\n",
        "Presisi adalah jumlah detail yang digunakan untuk mendeskripsikan suatu angka.\n",
        "\n",
        "Semakin tinggi nilai presisinya (8, 16, 32), semakin detail pula data yang digunakan untuk menyatakan suatu bilangan.\n",
        "\n",
        "Hal ini penting dalam pembelajaran mendalam dan komputasi numerik karena Anda melakukan begitu banyak operasi, semakin banyak detail yang harus Anda hitung, semakin banyak komputasi yang harus Anda gunakan.\n",
        "\n",
        "Jadi tipe data dengan presisi lebih rendah umumnya lebih cepat untuk dihitung tetapi mengorbankan beberapa kinerja pada metrik evaluasi seperti akurasi (lebih cepat untuk dihitung tetapi kurang akurat).\n",
        "\n",
        "> **Sumber Daya:**\n",
        "  * Lihat [dokumentasi PyTorch untuk daftar semua tipe data tensor yang tersedia](https://pytorch.org/docs/stable/tensors.html#data-types).\n",
        "  * Baca [halaman Wikipedia untuk ikhtisar tentang presisi dalam komputasi](https://en.wikipedia.org/wiki/Precision_(computer_science)) yang dimaksud.\n",
        "\n",
        "Mari kita lihat cara membuat beberapa tensor dengan tipe data tertentu. Kita dapat melakukannya menggunakan parameter `dtype`."
      ]
    },
    {
      "cell_type": "code",
      "execution_count": null,
      "metadata": {
        "colab": {
          "base_uri": "https://localhost:8080/"
        },
        "id": "q3MoGnpw9XaF",
        "outputId": "a7a32b9c-89d6-472e-d62a-e871ec032a44"
      },
      "outputs": [
        {
          "output_type": "execute_result",
          "data": {
            "text/plain": [
              "(torch.Size([3]), torch.float32, device(type='cpu'))"
            ]
          },
          "metadata": {},
          "execution_count": 20
        }
      ],
      "source": [
        "# Default datatype for tensors is float32\n",
        "float_32_tensor = torch.tensor([3.0, 6.0, 9.0],\n",
        "                               dtype=None, # defaults to None, which is torch.float32 or whatever datatype is passed\n",
        "                               device=None, # defaults to None, which uses the default tensor type\n",
        "                               requires_grad=False) # if True, operations performed on the tensor are recorded\n",
        "\n",
        "float_32_tensor.shape, float_32_tensor.dtype, float_32_tensor.device"
      ]
    },
    {
      "cell_type": "markdown",
      "metadata": {
        "id": "MhP8kzDfe_ty"
      },
      "source": [
        "Selain masalah bentuk (bentuk tensor tidak cocok), dua masalah paling umum lainnya yang akan Anda temui di PyTorch adalah masalah tipe data dan perangkat.\n",
        "\n",
        "Misalnya, salah satu tensor adalah `torch.float32` dan yang lainnya adalah `torch.float16` (PyTorch sering kali menyukai tensor dengan format yang sama).\n",
        "\n",
        "Atau salah satu tensor Anda ada di CPU dan yang lainnya ada di GPU (PyTorch menyukai penghitungan antar tensor berada di perangkat yang sama).\n",
        "\n",
        "Kita akan melihat lebih banyak pembicaraan tentang perangkat ini nanti.\n",
        "\n",
        "Untuk saat ini mari buat tensor dengan `dtype=torch.float16`."
      ]
    },
    {
      "cell_type": "code",
      "execution_count": null,
      "metadata": {
        "colab": {
          "base_uri": "https://localhost:8080/"
        },
        "id": "PKSuajld_09s",
        "outputId": "5eda132c-4b0e-4d5b-81a2-5d669bbd86b3"
      },
      "outputs": [
        {
          "output_type": "execute_result",
          "data": {
            "text/plain": [
              "torch.float16"
            ]
          },
          "metadata": {},
          "execution_count": 21
        }
      ],
      "source": [
        "float_16_tensor = torch.tensor([3.0, 6.0, 9.0],\n",
        "                               dtype=torch.float16) # torch.half would also work\n",
        "\n",
        "float_16_tensor.dtype"
      ]
    },
    {
      "cell_type": "markdown",
      "metadata": {
        "id": "gUjkB2AX7Upz"
      },
      "source": [
        "## Getting information from tensors\n",
        "\n",
        "Setelah Anda membuat tensor (atau orang lain atau modul PyTorch telah membuatnya untuk Anda), Anda mungkin ingin mendapatkan beberapa informasi dari tensor tersebut.\n",
        "\n",
        "Kami telah melihat ini sebelumnya, tetapi tiga atribut paling umum yang ingin Anda ketahui tentang tensor adalah:\n",
        "* `bentuk` - apa bentuk tensornya? (beberapa operasi memerlukan aturan bentuk tertentu)\n",
        "* `dtype` - tipe data apa yang menyimpan elemen dalam tensor?\n",
        "* `perangkat` - di perangkat apa tensor disimpan? (biasanya GPU atau CPU)\n",
        "\n",
        "Mari buat tensor acak dan cari tahu detailnya."
      ]
    },
    {
      "cell_type": "code",
      "execution_count": null,
      "metadata": {
        "colab": {
          "base_uri": "https://localhost:8080/"
        },
        "id": "hd_X4D0j7Umq",
        "outputId": "639f4612-3bcd-4df8-8e3d-910b39dc36b2"
      },
      "outputs": [
        {
          "output_type": "stream",
          "name": "stdout",
          "text": [
            "tensor([[0.3989, 0.9909, 0.1129, 0.4657],\n",
            "        [0.0733, 0.8086, 0.4195, 0.3318],\n",
            "        [0.1768, 0.8504, 0.9022, 0.5777]])\n",
            "Shape of tensor: torch.Size([3, 4])\n",
            "Datatype of tensor: torch.float32\n",
            "Device tensor is stored on: cpu\n"
          ]
        }
      ],
      "source": [
        "# Create a tensor\n",
        "some_tensor = torch.rand(3, 4)\n",
        "\n",
        "# Find out details about it\n",
        "print(some_tensor)\n",
        "print(f\"Shape of tensor: {some_tensor.shape}\")\n",
        "print(f\"Datatype of tensor: {some_tensor.dtype}\")\n",
        "print(f\"Device tensor is stored on: {some_tensor.device}\") # will default to CPU"
      ]
    },
    {
      "cell_type": "markdown",
      "metadata": {
        "id": "45K-E5uPg6cj"
      },
      "source": [
        "> **Note:** When you run into issues in PyTorch, it's very often one to do with one of the three attributes above. So when the error messages show up, sing yourself a little song called \"what, what, where\":\n",
        "  * \"*what shape are my tensors? what datatype are they and where are they stored? what shape, what datatype, where where where*\""
      ]
    },
    {
      "cell_type": "markdown",
      "metadata": {
        "id": "BdiWvoAi7UjL"
      },
      "source": [
        "## Manipulating tensors (tensor operations)\n",
        "\n",
        "Dalam pembelajaran mendalam, data (gambar, teks, video, audio, struktur protein, dll) direpresentasikan sebagai tensor.\n",
        "\n",
        "Sebuah model belajar dengan menyelidiki tensor tersebut dan melakukan serangkaian operasi (bisa memakan waktu 1.000.000 detik+) pada tensor untuk membuat representasi pola dalam data masukan.\n",
        "\n",
        "Operasi-operasi ini seringkali merupakan tarian yang indah antara:\n",
        "* Tambahan\n",
        "* Pengurangan\n",
        "* Perkalian (berdasarkan elemen)\n",
        "* Divisi\n",
        "* Perkalian matriks\n",
        "\n",
        "Dan itu saja. Tentu masih ada beberapa lagi di sana-sini, tetapi ini adalah blok dasar jaringan saraf.\n",
        "\n",
        "Dengan menyusun blok penyusun ini dengan cara yang benar, Anda dapat membuat jaringan saraf tercanggih (seperti lego!)."
      ]
    },
    {
      "cell_type": "markdown",
      "metadata": {
        "id": "Sk_6Dd7L7Uce"
      },
      "source": [
        "### Basic operations\n",
        "\n",
        "Mari kita mulai dengan beberapa operasi dasar, penjumlahan (`+`), pengurangan (`-`), perkalian (`*`).\n",
        "\n",
        "Mereka bekerja seperti yang Anda kira."
      ]
    },
    {
      "cell_type": "code",
      "execution_count": null,
      "metadata": {
        "colab": {
          "base_uri": "https://localhost:8080/"
        },
        "id": "X71WpQoPD7a4",
        "outputId": "694a578e-3f03-4bc0-9fe3-54e426ee126b"
      },
      "outputs": [
        {
          "output_type": "execute_result",
          "data": {
            "text/plain": [
              "tensor([11, 12, 13])"
            ]
          },
          "metadata": {},
          "execution_count": 23
        }
      ],
      "source": [
        "# Create a tensor of values and add a number to it\n",
        "tensor = torch.tensor([1, 2, 3])\n",
        "tensor + 10"
      ]
    },
    {
      "cell_type": "code",
      "execution_count": null,
      "metadata": {
        "colab": {
          "base_uri": "https://localhost:8080/"
        },
        "id": "Sp4TlTWWEFeO",
        "outputId": "7a00c816-391a-4ba4-9405-6f2042839a8f"
      },
      "outputs": [
        {
          "output_type": "execute_result",
          "data": {
            "text/plain": [
              "tensor([10, 20, 30])"
            ]
          },
          "metadata": {},
          "execution_count": 24
        }
      ],
      "source": [
        "# Multiply it by 10\n",
        "tensor * 10"
      ]
    },
    {
      "cell_type": "markdown",
      "metadata": {
        "id": "-1VEHnuRkn8Q"
      },
      "source": [
        "Perhatikan bagaimana nilai tensor di atas tidak menjadi `tensor([110, 120, 130])`, hal ini karena nilai di dalam tensor tidak berubah kecuali jika ditetapkan ulang."
      ]
    },
    {
      "cell_type": "code",
      "execution_count": null,
      "metadata": {
        "colab": {
          "base_uri": "https://localhost:8080/"
        },
        "id": "XuB1UjCIEJIA",
        "outputId": "a3a9e900-880b-4335-abdc-45f305e06936"
      },
      "outputs": [
        {
          "output_type": "execute_result",
          "data": {
            "text/plain": [
              "tensor([1, 2, 3])"
            ]
          },
          "metadata": {},
          "execution_count": 25
        }
      ],
      "source": [
        "# Tensors don't change unless reassigned\n",
        "tensor"
      ]
    },
    {
      "cell_type": "markdown",
      "metadata": {
        "id": "VYvqGpUTk1o6"
      },
      "source": [
        "Mari kita kurangi sebuah angka dan kali ini kita akan menetapkan ulang variabel `tensor`."
      ]
    },
    {
      "cell_type": "code",
      "execution_count": null,
      "metadata": {
        "colab": {
          "base_uri": "https://localhost:8080/"
        },
        "id": "U4iWKoLsENry",
        "outputId": "157cb113-3ca6-4dbf-e66d-61a7732292c2"
      },
      "outputs": [
        {
          "output_type": "execute_result",
          "data": {
            "text/plain": [
              "tensor([-9, -8, -7])"
            ]
          },
          "metadata": {},
          "execution_count": 26
        }
      ],
      "source": [
        "# Subtract and reassign\n",
        "tensor = tensor - 10\n",
        "tensor"
      ]
    },
    {
      "cell_type": "code",
      "execution_count": null,
      "metadata": {
        "colab": {
          "base_uri": "https://localhost:8080/"
        },
        "id": "tFgZY-PaFNXa",
        "outputId": "6d59ea2e-472e-4678-e5b7-26e80a2be3c2"
      },
      "outputs": [
        {
          "output_type": "execute_result",
          "data": {
            "text/plain": [
              "tensor([1, 2, 3])"
            ]
          },
          "metadata": {},
          "execution_count": 27
        }
      ],
      "source": [
        "# Add and reassign\n",
        "tensor = tensor + 10\n",
        "tensor"
      ]
    },
    {
      "cell_type": "markdown",
      "metadata": {
        "id": "CYXDoIOzk-6I"
      },
      "source": [
        "PyTorch juga memiliki banyak fungsi bawaan seperti [`torch.mul()`](https://pytorch.org/docs/stable/generated/torch.mul.html#torch.mul) (kependekan dari perkalian) dan [`torch.add()`](https://pytorch.org/docs/stable/generated/torch.add.html) untuk melakukan operasi dasar."
      ]
    },
    {
      "cell_type": "code",
      "execution_count": null,
      "metadata": {
        "colab": {
          "base_uri": "https://localhost:8080/"
        },
        "id": "uVysdk3kFWbY",
        "outputId": "23238afe-a0ca-40c5-c5e7-052466f83adb"
      },
      "outputs": [
        {
          "output_type": "execute_result",
          "data": {
            "text/plain": [
              "tensor([10, 20, 30])"
            ]
          },
          "metadata": {},
          "execution_count": 28
        }
      ],
      "source": [
        "# Can also use torch functions\n",
        "torch.multiply(tensor, 10)"
      ]
    },
    {
      "cell_type": "markdown",
      "source": [],
      "metadata": {
        "id": "uAwJSLvXWQy4"
      }
    },
    {
      "cell_type": "code",
      "execution_count": null,
      "metadata": {
        "colab": {
          "base_uri": "https://localhost:8080/"
        },
        "id": "IxuPJIpNFbqO",
        "outputId": "e4b50c34-bb20-431a-94ea-cd8d3dc8f418"
      },
      "outputs": [
        {
          "output_type": "execute_result",
          "data": {
            "text/plain": [
              "tensor([1, 2, 3])"
            ]
          },
          "metadata": {},
          "execution_count": 29
        }
      ],
      "source": [
        "# Original tensor is still unchanged\n",
        "tensor"
      ]
    },
    {
      "cell_type": "markdown",
      "metadata": {
        "id": "70UNL33AlVQq"
      },
      "source": [
        "Namun, lebih umum menggunakan simbol operator seperti `*` daripada `torch.mul()`"
      ]
    },
    {
      "cell_type": "code",
      "execution_count": null,
      "metadata": {
        "colab": {
          "base_uri": "https://localhost:8080/"
        },
        "id": "S5v3RkR0F2Jq",
        "outputId": "5b852315-10ef-4f3d-a9ec-77a3719c43a3"
      },
      "outputs": [
        {
          "output_type": "stream",
          "name": "stdout",
          "text": [
            "tensor([1, 2, 3]) * tensor([1, 2, 3])\n",
            "Equals: tensor([1, 4, 9])\n"
          ]
        }
      ],
      "source": [
        "# Element-wise multiplication (each element multiplies its equivalent, index 0->0, 1->1, 2->2)\n",
        "print(tensor, \"*\", tensor)\n",
        "print(\"Equals:\", tensor * tensor)"
      ]
    },
    {
      "cell_type": "markdown",
      "metadata": {
        "id": "TT5fVuyu7q5z"
      },
      "source": [
        "### Matrix multiplication (is all you need)\n",
        "\n",
        "Salah satu operasi paling umum dalam algoritma pembelajaran mesin dan pembelajaran mendalam (seperti jaringan neural) adalah [perkalian matriks](https://www.mathsisfun.com/algebra/matrix-multiplying.html).\n",
        "\n",
        "PyTorch mengimplementasikan fungsi perkalian matriks dalam metode [`torch.matmul()`](https://pytorch.org/docs/stable/generated/torch.matmul.html).\n",
        "\n",
        "Dua aturan utama perkalian matriks yang perlu diingat adalah:\n",
        "\n",
        "1. **Dimensi bagian dalam** harus sesuai:\n",
        "  * `(3, 2) @ (3, 2)` tidak akan berfungsi\n",
        "  * `(2, 3) @ (3, 2)` akan berfungsi\n",
        "  * `(3, 2) @ (2, 3)` akan berfungsi\n",
        "2. Matriks yang dihasilkan berbentuk **dimensi luar**:\n",
        " * `(2, 3) @ (3, 2)` -> `(2, 2)`\n",
        " * `(3, 2) @ (2, 3)` -> `(3, 3)`\n",
        "\n",
        "> **Catatan:** \"`@`\" dengan Python adalah simbol perkalian matriks.\n",
        "\n",
        "> **Sumber Daya:** Anda dapat melihat semua aturan perkalian matriks menggunakan `torch.matmul()` [dalam dokumentasi PyTorch](https://pytorch.org/docs/stable/generated/torch.matmul. html).\n",
        "\n",
        "Mari kita membuat tensor dan melakukan perkalian berdasarkan elemen dan perkalian matriks di atasnya.\n",
        "\n"
      ]
    },
    {
      "cell_type": "code",
      "execution_count": null,
      "metadata": {
        "colab": {
          "base_uri": "https://localhost:8080/"
        },
        "id": "ZE7loucmDlEM",
        "outputId": "48b6a246-56b9-422e-fa38-0a04334d6dc1"
      },
      "outputs": [
        {
          "output_type": "execute_result",
          "data": {
            "text/plain": [
              "torch.Size([3])"
            ]
          },
          "metadata": {},
          "execution_count": 31
        }
      ],
      "source": [
        "import torch\n",
        "tensor = torch.tensor([1, 2, 3])\n",
        "tensor.shape"
      ]
    },
    {
      "cell_type": "markdown",
      "metadata": {
        "id": "VUAZ3_b0vOKv"
      },
      "source": [
        "Perbedaan antara perkalian elemen dan perkalian matriks adalah penjumlahan nilainya.\n",
        "\n",
        "Untuk variabel `tensor` kami dengan nilai `[1, 2, 3]`:\n",
        "\n",
        "| Operasi | Perhitungan | Kode |\n",
        "| ----- | ----- | ----- |\n",
        "| **Perkalian berdasarkan elemen** | `[1*1, 2*2, 3*3]` = `[1, 4, 9]` | `tensor * tensor` |\n",
        "| **Perkalian matriks** | `[1*1 + 2*2 + 3*3]` = `[14]` | `tensor.matmul(tensor)` |"
      ]
    },
    {
      "cell_type": "code",
      "execution_count": null,
      "metadata": {
        "colab": {
          "base_uri": "https://localhost:8080/"
        },
        "id": "i42gkUeHvI_1",
        "outputId": "b5ac8934-8adb-4e91-cfed-62a1641d2e75"
      },
      "outputs": [
        {
          "output_type": "execute_result",
          "data": {
            "text/plain": [
              "tensor([1, 4, 9])"
            ]
          },
          "metadata": {},
          "execution_count": 32
        }
      ],
      "source": [
        "# Element-wise matrix multiplication\n",
        "tensor * tensor"
      ]
    },
    {
      "cell_type": "code",
      "execution_count": null,
      "metadata": {
        "colab": {
          "base_uri": "https://localhost:8080/"
        },
        "id": "PvCBiiTTDk8y",
        "outputId": "5e20e7ee-6f8e-4aa0-b848-bee6e8a335c0"
      },
      "outputs": [
        {
          "output_type": "execute_result",
          "data": {
            "text/plain": [
              "tensor(14)"
            ]
          },
          "metadata": {},
          "execution_count": 33
        }
      ],
      "source": [
        "# Matrix multiplication\n",
        "torch.matmul(tensor, tensor)"
      ]
    },
    {
      "cell_type": "code",
      "execution_count": null,
      "metadata": {
        "colab": {
          "base_uri": "https://localhost:8080/"
        },
        "id": "m4E_pROBDk2r",
        "outputId": "70b28b3f-3461-41c1-c393-c79ba916a933"
      },
      "outputs": [
        {
          "output_type": "execute_result",
          "data": {
            "text/plain": [
              "tensor(14)"
            ]
          },
          "metadata": {},
          "execution_count": 34
        }
      ],
      "source": [
        "# Can also use the \"@\" symbol for matrix multiplication, though not recommended\n",
        "tensor @ tensor"
      ]
    },
    {
      "cell_type": "markdown",
      "metadata": {
        "id": "obbginUMv43A"
      },
      "source": [
        "Anda dapat melakukan perkalian matriks dengan tangan tetapi hal ini tidak disarankan.\n",
        "\n",
        "Metode `torch.matmul()` bawaan lebih cepat."
      ]
    },
    {
      "cell_type": "code",
      "execution_count": null,
      "metadata": {
        "colab": {
          "base_uri": "https://localhost:8080/"
        },
        "id": "6qMSaLOoJscL",
        "outputId": "05474de7-6e2f-4b09-a8f0-0e328d99b71d"
      },
      "outputs": [
        {
          "output_type": "stream",
          "name": "stdout",
          "text": [
            "CPU times: user 1.2 ms, sys: 36 µs, total: 1.23 ms\n",
            "Wall time: 1.11 ms\n"
          ]
        },
        {
          "output_type": "execute_result",
          "data": {
            "text/plain": [
              "tensor(14)"
            ]
          },
          "metadata": {},
          "execution_count": 35
        }
      ],
      "source": [
        "%%time\n",
        "# Matrix multiplication by hand\n",
        "# (avoid doing operations with for loops at all cost, they are computationally expensive)\n",
        "value = 0\n",
        "for i in range(len(tensor)):\n",
        "  value += tensor[i] * tensor[i]\n",
        "value"
      ]
    },
    {
      "cell_type": "code",
      "execution_count": null,
      "metadata": {
        "colab": {
          "base_uri": "https://localhost:8080/"
        },
        "id": "vVWiKB0KwH74",
        "outputId": "5266ec4e-524e-444b-d62d-99ff5687c216"
      },
      "outputs": [
        {
          "output_type": "stream",
          "name": "stdout",
          "text": [
            "CPU times: user 359 µs, sys: 68 µs, total: 427 µs\n",
            "Wall time: 343 µs\n"
          ]
        },
        {
          "output_type": "execute_result",
          "data": {
            "text/plain": [
              "tensor(14)"
            ]
          },
          "metadata": {},
          "execution_count": 36
        }
      ],
      "source": [
        "%%time\n",
        "torch.matmul(tensor, tensor)"
      ]
    },
    {
      "cell_type": "markdown",
      "metadata": {
        "id": "aJ4DDmo1TGe-"
      },
      "source": [
        "## Salah satu kesalahan paling umum dalam pembelajaran mendalam (kesalahan bentuk)\n",
        "\n",
        "Karena sebagian besar pembelajaran mendalam adalah mengalikan dan melakukan operasi pada matriks, dan matriks memiliki aturan ketat tentang bentuk dan ukuran apa yang dapat digabungkan, salah satu kesalahan paling umum yang akan Anda temui dalam pembelajaran mendalam adalah ketidakcocokan bentuk."
      ]
    },
    {
      "cell_type": "code",
      "execution_count": null,
      "metadata": {
        "colab": {
          "base_uri": "https://localhost:8080/",
          "height": 210
        },
        "id": "rN5RcoD4Jo6y",
        "outputId": "6344f7c5-2821-4270-e7bf-71ce41844d17"
      },
      "outputs": [
        {
          "output_type": "error",
          "ename": "RuntimeError",
          "evalue": "ignored",
          "traceback": [
            "\u001b[0;31m---------------------------------------------------------------------------\u001b[0m",
            "\u001b[0;31mRuntimeError\u001b[0m                              Traceback (most recent call last)",
            "\u001b[0;32m<ipython-input-37-5893e600ebdf>\u001b[0m in \u001b[0;36m<cell line: 10>\u001b[0;34m()\u001b[0m\n\u001b[1;32m      8\u001b[0m                          [9, 12]], dtype=torch.float32)\n\u001b[1;32m      9\u001b[0m \u001b[0;34m\u001b[0m\u001b[0m\n\u001b[0;32m---> 10\u001b[0;31m \u001b[0mtorch\u001b[0m\u001b[0;34m.\u001b[0m\u001b[0mmatmul\u001b[0m\u001b[0;34m(\u001b[0m\u001b[0mtensor_A\u001b[0m\u001b[0;34m,\u001b[0m \u001b[0mtensor_B\u001b[0m\u001b[0;34m)\u001b[0m \u001b[0;31m# (this will error)\u001b[0m\u001b[0;34m\u001b[0m\u001b[0;34m\u001b[0m\u001b[0m\n\u001b[0m",
            "\u001b[0;31mRuntimeError\u001b[0m: mat1 and mat2 shapes cannot be multiplied (3x2 and 3x2)"
          ]
        }
      ],
      "source": [
        "\n",
        "\n",
        "torch.matmul(tensor_A, tensor_B) # (this will error)"
      ]
    },
    {
      "cell_type": "code",
      "source": [
        "# Shapes need to be in the right way\n",
        "tensor_A = torch.tensor([[1, 2],\n",
        "                         [3, 4],\n",
        "                         [5, 6]], dtype=torch.float32)\n",
        "\n",
        "tensor_B = torch.tensor([[7, 10],\n",
        "                         [8, 11],\n",
        "                         [9, 12]], dtype=torch.float32)\n",
        "result = torch.matmul(tensor_A, tensor_B.T)"
      ],
      "metadata": {
        "id": "1bBe_tGZXGE0"
      },
      "execution_count": null,
      "outputs": []
    },
    {
      "cell_type": "markdown",
      "metadata": {
        "id": "HNA6MZEFxWVt"
      },
      "source": [
        "Kita dapat membuat perkalian matriks berfungsi antara `tensor_A` dan `tensor_B` dengan mencocokkan dimensi dalamnya.\n",
        "\n",
        "Salah satu cara untuk melakukannya adalah dengan **transpose** (mengganti dimensi tensor tertentu).\n",
        "\n",
        "Anda dapat melakukan transpos di PyTorch menggunakan:\n",
        "* `torch.transpose(input, dim0, dim1)` - dengan `input` adalah tensor yang diinginkan untuk diubah posisinya dan `dim0` dan `dim1` adalah dimensi yang akan ditukar.\n",
        "* `tensor.T` - dengan `tensor` adalah tensor yang diinginkan untuk diubah posisinya.\n",
        "\n",
        "Mari kita coba yang terakhir."
      ]
    },
    {
      "cell_type": "code",
      "execution_count": null,
      "metadata": {
        "id": "lUqgaANiy1wq",
        "colab": {
          "base_uri": "https://localhost:8080/"
        },
        "outputId": "0e685473-4116-44e3-fb41-9b13fbb8303a"
      },
      "outputs": [
        {
          "output_type": "stream",
          "name": "stdout",
          "text": [
            "tensor([[1., 2.],\n",
            "        [3., 4.],\n",
            "        [5., 6.]])\n",
            "tensor([[ 7., 10.],\n",
            "        [ 8., 11.],\n",
            "        [ 9., 12.]])\n"
          ]
        }
      ],
      "source": [
        "# View tensor_A and tensor_B\n",
        "print(tensor_A)\n",
        "print(tensor_B)"
      ]
    },
    {
      "cell_type": "code",
      "execution_count": null,
      "metadata": {
        "id": "DveqxO7iy_Fi",
        "colab": {
          "base_uri": "https://localhost:8080/"
        },
        "outputId": "33760320-e4b3-4819-b5ab-a3b30bc29390"
      },
      "outputs": [
        {
          "output_type": "stream",
          "name": "stdout",
          "text": [
            "tensor([[1., 2.],\n",
            "        [3., 4.],\n",
            "        [5., 6.]])\n",
            "tensor([[ 7.,  8.,  9.],\n",
            "        [10., 11., 12.]])\n"
          ]
        }
      ],
      "source": [
        "# View tensor_A and tensor_B.T\n",
        "print(tensor_A)\n",
        "print(tensor_B.T)"
      ]
    },
    {
      "cell_type": "code",
      "execution_count": null,
      "metadata": {
        "id": "35rEIu-NKtVE",
        "colab": {
          "base_uri": "https://localhost:8080/"
        },
        "outputId": "a1053673-fa12-4fa9-cf6d-eb67af87b937"
      },
      "outputs": [
        {
          "output_type": "stream",
          "name": "stdout",
          "text": [
            "Original shapes: tensor_A = torch.Size([3, 2]), tensor_B = torch.Size([3, 2])\n",
            "\n",
            "New shapes: tensor_A = torch.Size([3, 2]) (same as above), tensor_B.T = torch.Size([2, 3])\n",
            "\n",
            "Multiplying: torch.Size([3, 2]) * torch.Size([2, 3]) <- inner dimensions match\n",
            "\n",
            "Output:\n",
            "\n",
            "tensor([[ 27.,  30.,  33.],\n",
            "        [ 61.,  68.,  75.],\n",
            "        [ 95., 106., 117.]])\n",
            "\n",
            "Output shape: torch.Size([3, 3])\n"
          ]
        }
      ],
      "source": [
        "# The operation works when tensor_B is transposed\n",
        "print(f\"Original shapes: tensor_A = {tensor_A.shape}, tensor_B = {tensor_B.shape}\\n\")\n",
        "print(f\"New shapes: tensor_A = {tensor_A.shape} (same as above), tensor_B.T = {tensor_B.T.shape}\\n\")\n",
        "print(f\"Multiplying: {tensor_A.shape} * {tensor_B.T.shape} <- inner dimensions match\\n\")\n",
        "print(\"Output:\\n\")\n",
        "output = torch.matmul(tensor_A, tensor_B.T)\n",
        "print(output)\n",
        "print(f\"\\nOutput shape: {output.shape}\")"
      ]
    },
    {
      "cell_type": "markdown",
      "metadata": {
        "id": "MfcFEqfLjN24"
      },
      "source": [
        "Anda juga dapat menggunakan [`torch.mm()`](https://pytorch.org/docs/stable/generated/torch.mm.html) yang merupakan kependekan dari `torch.matmul()`."
      ]
    },
    {
      "cell_type": "code",
      "execution_count": null,
      "metadata": {
        "id": "x3rJvW_TTGe_",
        "colab": {
          "base_uri": "https://localhost:8080/"
        },
        "outputId": "1362b19b-1661-4434-e7b5-8e94277fb933"
      },
      "outputs": [
        {
          "output_type": "execute_result",
          "data": {
            "text/plain": [
              "tensor([[ 27.,  30.,  33.],\n",
              "        [ 61.,  68.,  75.],\n",
              "        [ 95., 106., 117.]])"
            ]
          },
          "metadata": {},
          "execution_count": 43
        }
      ],
      "source": [
        "# torch.mm is a shortcut for matmul\n",
        "torch.mm(tensor_A, tensor_B.T)"
      ]
    },
    {
      "cell_type": "markdown",
      "metadata": {
        "id": "bXKozI4T0hFi"
      },
      "source": [
        "Tanpa transpos, aturan perkalian matriks tidak terpenuhi dan kita mendapatkan error seperti di atas.\n",
        "\n",
        "Bagaimana dengan visualnya?\n",
        "\n",
        "![demo visual perkalian matriks](https://github.com/mrdbourke/pytorch-deep-learning/raw/main/images/00-matrix-multiply-crop.gif)\n",
        "\n",
        "Anda dapat membuat visual perkalian matriks sendiri seperti ini di http://matrixmultiplication.xyz/.\n",
        "\n",
        "> **Catatan:** Perkalian matriks seperti ini disebut juga sebagai [**perkalian titik**](https://www.mathsisfun.com/algebra/vectors-dot-product.html) dari dua matriks ."
      ]
    },
    {
      "cell_type": "markdown",
      "metadata": {
        "id": "hA64Z4DmkB31"
      },
      "source": [
        "Jaringan saraf penuh dengan perkalian matriks dan perkalian titik.\n",
        "\n",
        "Modul [`torch.nn.Linear()`](https://pytorch.org/docs/1.9.1/generated/torch.nn.Linear.html) (kita akan melihatnya beraksi nanti), juga dikenal sebagai lapisan feed-forward atau lapisan yang terhubung sepenuhnya, mengimplementasikan perkalian matriks antara masukan `x` dan matriks bobot `A`.\n",
        "\n",
        "$$\n",
        "y = x\\cdot{A^T} + b\n",
        "$$\n",
        "\n",
        "Di mana:\n",
        "* `x` adalah masukan ke lapisan (pembelajaran mendalam adalah tumpukan lapisan seperti `torch.nn.Linear()` dan lainnya di atas satu sama lain).\n",
        "* `A` adalah matriks bobot yang dibuat oleh lapisan, ini dimulai sebagai angka acak yang disesuaikan saat jaringan saraf belajar untuk merepresentasikan pola dalam data dengan lebih baik (perhatikan \"`T`\", itu karena matriks bobot dialihkan ).\n",
        "  * **Catatan:** Anda mungkin juga sering melihat `W` atau huruf lain seperti `X` digunakan untuk menampilkan matriks bobot.\n",
        "* `b` adalah istilah bias yang digunakan untuk sedikit mengimbangi bobot dan masukan.\n",
        "* `y` adalah output (manipulasi input dengan harapan menemukan pola di dalamnya).\n",
        "\n",
        "Ini adalah fungsi linier (Anda mungkin pernah melihat sesuatu seperti $y = mx+b$ di sekolah menengah atau di tempat lain), dan dapat digunakan untuk menggambar garis lurus!\n",
        "\n",
        "Mari kita bermain-main dengan lapisan linier.\n",
        "\n",
        "Coba ubah nilai `in_features` dan `out_features` di bawah dan lihat apa yang terjadi.\n",
        "\n",
        "Apakah Anda memperhatikan ada hubungannya dengan bentuknya?"
      ]
    },
    {
      "cell_type": "code",
      "execution_count": null,
      "metadata": {
        "id": "mC_MjKW1LX7T",
        "colab": {
          "base_uri": "https://localhost:8080/"
        },
        "outputId": "2de2e3c2-0057-4527-9c30-9b4ad3457b86"
      },
      "outputs": [
        {
          "output_type": "stream",
          "name": "stdout",
          "text": [
            "Input shape: torch.Size([3, 2])\n",
            "\n",
            "Output:\n",
            "tensor([[2.2368, 1.2292, 0.4714, 0.3864, 0.1309, 0.9838],\n",
            "        [4.4919, 2.1970, 0.4469, 0.5285, 0.3401, 2.4777],\n",
            "        [6.7469, 3.1648, 0.4224, 0.6705, 0.5493, 3.9716]],\n",
            "       grad_fn=<AddmmBackward0>)\n",
            "\n",
            "Output shape: torch.Size([3, 6])\n"
          ]
        }
      ],
      "source": [
        "# Since the linear layer starts with a random weights matrix, let's make it reproducible (more on this later)\n",
        "torch.manual_seed(42)\n",
        "# This uses matrix multiplication\n",
        "linear = torch.nn.Linear(in_features=2, # in_features = matches inner dimension of input\n",
        "                         out_features=6) # out_features = describes outer value\n",
        "x = tensor_A\n",
        "output = linear(x)\n",
        "print(f\"Input shape: {x.shape}\\n\")\n",
        "print(f\"Output:\\n{output}\\n\\nOutput shape: {output.shape}\")"
      ]
    },
    {
      "cell_type": "markdown",
      "metadata": {
        "id": "zIGrP5j1pN7j"
      },
      "source": [
        "> **Question:** What happens if you change `in_features` from 2 to 3 above? Does it error? How could you change the shape of the input (`x`) to accomodate to the error? Hint: what did we have to do to `tensor_B` above?"
      ]
    },
    {
      "cell_type": "markdown",
      "metadata": {
        "id": "EPNF0nMWoGEj"
      },
      "source": [
        "Jika Anda belum pernah melakukannya, perkalian matriks bisa menjadi topik yang membingungkan pada awalnya.\n",
        "\n",
        "Namun setelah Anda bermain-main dengannya beberapa kali dan bahkan membuka beberapa jaringan saraf, Anda akan melihatnya ada di mana-mana.\n",
        "\n",
        "Ingat, hanya perkalian matriks yang Anda butuhkan.\n",
        "\n",
        "![Anda hanya memerlukan perkalian matriks](https://raw.githubusercontent.com/mrdbourke/pytorch-deep-learning/main/images/00_matrix_multiplication_is_all_you_need.jpeg)\n",
        "\n",
        "*Saat Anda mulai menggali lapisan jaringan saraf dan membangun lapisan Anda sendiri, Anda akan menemukan perkalian matriks di mana-mana. **Sumber:** https://marksaroufim.substack.com/p/working-class-deep-learner*"
      ]
    },
    {
      "cell_type": "markdown",
      "metadata": {
        "id": "pjMmrJOOPv5e"
      },
      "source": [
        "### Finding the min, max, mean, sum, etc (aggregation)\n",
        "\n",
        "Sekarang kita telah melihat beberapa cara untuk memanipulasi tensor, mari kita lihat beberapa cara untuk menggabungkannya (mulai dari nilai yang lebih banyak ke nilai yang lebih kecil).\n",
        "\n",
        "Pertama kita akan membuat tensor lalu mencari nilai maks, min, rata-rata, dan jumlahnya.\n",
        "\n",
        "\n",
        "\n"
      ]
    },
    {
      "cell_type": "code",
      "execution_count": null,
      "metadata": {
        "id": "jrFQbe5fP1Rk",
        "colab": {
          "base_uri": "https://localhost:8080/"
        },
        "outputId": "1be3dd48-fe51-4d30-b484-8a209d29f6b8"
      },
      "outputs": [
        {
          "output_type": "execute_result",
          "data": {
            "text/plain": [
              "tensor([ 0, 10, 20, 30, 40, 50, 60, 70, 80, 90])"
            ]
          },
          "metadata": {},
          "execution_count": 45
        }
      ],
      "source": [
        "# Create a tensor\n",
        "x = torch.arange(0, 100, 10)\n",
        "x"
      ]
    },
    {
      "cell_type": "markdown",
      "metadata": {
        "id": "-J-wfMdlsEco"
      },
      "source": [
        "Sekarang mari kita lakukan beberapa agregasi."
      ]
    },
    {
      "cell_type": "code",
      "execution_count": null,
      "metadata": {
        "id": "e5wSP9YKP3Lb",
        "colab": {
          "base_uri": "https://localhost:8080/"
        },
        "outputId": "36ed006c-d626-4cb3-a995-2b2a151600b6"
      },
      "outputs": [
        {
          "output_type": "stream",
          "name": "stdout",
          "text": [
            "Minimum: 0\n",
            "Maximum: 90\n",
            "Mean: 45.0\n",
            "Sum: 450\n"
          ]
        }
      ],
      "source": [
        "print(f\"Minimum: {x.min()}\")\n",
        "print(f\"Maximum: {x.max()}\")\n",
        "# print(f\"Mean: {x.mean()}\") # this will error\n",
        "print(f\"Mean: {x.type(torch.float32).mean()}\") # won't work without float datatype\n",
        "print(f\"Sum: {x.sum()}\")"
      ]
    },
    {
      "cell_type": "markdown",
      "metadata": {
        "id": "JHoKpsg3sKQE"
      },
      "source": [
        "> **Catatan:** Anda mungkin menemukan beberapa metode seperti `torch.mean()` mengharuskan tensor berada di `torch.float32` (yang paling umum) atau tipe data spesifik lainnya, jika tidak, operasi akan gagal.\n",
        "\n",
        "Anda juga dapat melakukan hal yang sama seperti di atas dengan metode `torch`."
      ]
    },
    {
      "cell_type": "code",
      "execution_count": null,
      "metadata": {
        "id": "0Cr23Y9uP3HO",
        "colab": {
          "base_uri": "https://localhost:8080/"
        },
        "outputId": "85a8a5f3-7a1c-4ce3-d94f-82669d56ebaa"
      },
      "outputs": [
        {
          "output_type": "execute_result",
          "data": {
            "text/plain": [
              "(tensor(90), tensor(0), tensor(45.), tensor(450))"
            ]
          },
          "metadata": {},
          "execution_count": 47
        }
      ],
      "source": [
        "torch.max(x), torch.min(x), torch.mean(x.type(torch.float32)), torch.sum(x)"
      ]
    },
    {
      "cell_type": "markdown",
      "metadata": {
        "id": "i7ApCaZjDkvp"
      },
      "source": [
        "### Posisi min/maks\n",
        "\n",
        "Anda juga dapat menemukan indeks tensor yang nilai maks atau minimumnya muncul dengan [`torch.argmax()`](https://pytorch.org/docs/stable/generated/torch.argmax.html) dan [`torch .argmin()`](https://pytorch.org/docs/stable/generated/torch.argmin.html) masing-masing.\n",
        "\n",
        "Ini berguna jika Anda hanya menginginkan posisi dengan nilai tertinggi (atau terendah) dan bukan nilai sebenarnya (kita akan melihatnya di bagian selanjutnya saat menggunakan [fungsi aktivasi softmax](https://pytorch.org /docs/stable/generated/torch.nn.Softmax.html))."
      ]
    },
    {
      "cell_type": "code",
      "execution_count": null,
      "metadata": {
        "id": "FzNBl9JSGlHi",
        "colab": {
          "base_uri": "https://localhost:8080/"
        },
        "outputId": "85220fbb-b53a-4870-9de8-94a3d5af35ce"
      },
      "outputs": [
        {
          "output_type": "stream",
          "name": "stdout",
          "text": [
            "Tensor: tensor([10, 20, 30, 40, 50, 60, 70, 80, 90])\n",
            "Index where max value occurs: 8\n",
            "Index where min value occurs: 0\n"
          ]
        }
      ],
      "source": [
        "# Create a tensor\n",
        "tensor = torch.arange(10, 100, 10)\n",
        "print(f\"Tensor: {tensor}\")\n",
        "\n",
        "# Returns index of max and min values\n",
        "print(f\"Index where max value occurs: {tensor.argmax()}\")\n",
        "print(f\"Index where min value occurs: {tensor.argmin()}\")"
      ]
    },
    {
      "cell_type": "markdown",
      "metadata": {
        "id": "QBu33WihOXBk"
      },
      "source": [
        "### Ubah tipe data tensor\n",
        "\n",
        "Seperti disebutkan, masalah umum dengan operasi pembelajaran mendalam adalah memiliki tensor dalam tipe data yang berbeda.\n",
        "\n",
        "Jika satu tensor berada di `torch.float64` dan tensor lainnya berada di `torch.float32`, Anda mungkin mengalami beberapa error.\n",
        "\n",
        "Tapi ada perbaikan.\n",
        "\n",
        "Anda dapat mengubah tipe data tensor menggunakan [`torch.Tensor.type(dtype=None)`](https://pytorch.org/docs/stable/generated/torch.Tensor.type.html) dengan `dtype` parameter adalah tipe data yang ingin Anda gunakan.\n",
        "\n",
        "Pertama kita akan membuat tensor dan memeriksa tipe datanya (defaultnya adalah `torch.float32`)."
      ]
    },
    {
      "cell_type": "code",
      "execution_count": null,
      "metadata": {
        "id": "rY2FEsCAOaLu",
        "colab": {
          "base_uri": "https://localhost:8080/"
        },
        "outputId": "94929f3f-cb3e-4985-c042-8c19bf7d2034"
      },
      "outputs": [
        {
          "output_type": "execute_result",
          "data": {
            "text/plain": [
              "torch.float32"
            ]
          },
          "metadata": {},
          "execution_count": 49
        }
      ],
      "source": [
        "# Create a tensor and check its datatype\n",
        "tensor = torch.arange(10., 100., 10.)\n",
        "tensor.dtype"
      ]
    },
    {
      "cell_type": "markdown",
      "metadata": {
        "id": "jR30FHEc92of"
      },
      "source": [
        "Sekarang kita akan membuat tensor lain yang sama seperti sebelumnya tetapi mengubah tipe datanya menjadi `torch.float16`.\n"
      ]
    },
    {
      "cell_type": "code",
      "execution_count": null,
      "metadata": {
        "id": "Cac8gRYjOeab",
        "colab": {
          "base_uri": "https://localhost:8080/"
        },
        "outputId": "5bdeda9e-1293-48ee-83c3-989176121f17"
      },
      "outputs": [
        {
          "output_type": "execute_result",
          "data": {
            "text/plain": [
              "tensor([10., 20., 30., 40., 50., 60., 70., 80., 90.], dtype=torch.float16)"
            ]
          },
          "metadata": {},
          "execution_count": 50
        }
      ],
      "source": [
        "# Create a float16 tensor\n",
        "tensor_float16 = tensor.type(torch.float16)\n",
        "tensor_float16"
      ]
    },
    {
      "cell_type": "markdown",
      "metadata": {
        "id": "ndVlKJZ4-7_5"
      },
      "source": [
        "Dan kita bisa melakukan hal serupa untuk membuat tensor `torch.int8`."
      ]
    },
    {
      "cell_type": "code",
      "execution_count": null,
      "metadata": {
        "id": "8Yqovld2Oj6s",
        "colab": {
          "base_uri": "https://localhost:8080/"
        },
        "outputId": "8c0211e7-5f92-4bb8-c676-81449399e18f"
      },
      "outputs": [
        {
          "output_type": "execute_result",
          "data": {
            "text/plain": [
              "tensor([10, 20, 30, 40, 50, 60, 70, 80, 90], dtype=torch.int8)"
            ]
          },
          "metadata": {},
          "execution_count": 51
        }
      ],
      "source": [
        "# Create a int8 tensor\n",
        "tensor_int8 = tensor.type(torch.int8)\n",
        "tensor_int8"
      ]
    },
    {
      "cell_type": "markdown",
      "metadata": {
        "id": "44GxVabar-xe"
      },
      "source": [
        "> **Catatan:** Tipe data yang berbeda pada awalnya bisa membingungkan. Namun bayangkan saja, semakin rendah angkanya (misalnya 32, 16, 8), semakin kurang presisi komputer menyimpan nilainya. Dan dengan jumlah penyimpanan yang lebih rendah, hal ini umumnya menghasilkan komputasi yang lebih cepat dan model keseluruhan yang lebih kecil. Jaringan saraf berbasis seluler sering kali beroperasi dengan bilangan bulat 8-bit, lebih kecil dan lebih cepat untuk dijalankan tetapi kurang akurat dibandingkan jaringan float32. Untuk informasi lebih lanjut tentang ini, saya telah membaca tentang [presisi dalam komputasi](https://en.wikipedia.org/wiki/Precision_(computer_science)).\n",
        "\n",
        "> **Latihan:** Sejauh ini kita telah membahas beberapa metode tensor, tetapi masih banyak lagi di [dokumentasi `torch.Tensor`](https://pytorch.org/docs/stable/tensors.html) , saya sarankan menghabiskan 10 menit untuk menelusuri dan melihat apa pun yang menarik perhatian Anda. Klik pada mereka dan kemudian tuliskan sendiri dalam kode untuk melihat apa yang terjadi."
      ]
    },
    {
      "cell_type": "markdown",
      "metadata": {
        "id": "7CkCtAYmGsHY"
      },
      "source": [
        "### Reshaping, stacking, squeezing and unsqueezing\n",
        "\n",
        "Seringkali Anda ingin membentuk ulang atau mengubah dimensi tensor tanpa benar-benar mengubah nilai di dalamnya.\n",
        "\n",
        "Untuk melakukannya, beberapa metode populer adalah:\n",
        "\n",
        "| Metode | Deskripsi satu baris |\n",
        "| ----- | ----- |\n",
        "| [`torch.reshape(input, bentuk)`](https://pytorch.org/docs/stable/generated/torch.reshape.html#torch.reshape) | Membentuk ulang `input` menjadi `shape` (jika kompatibel), juga dapat menggunakan `torch.Tensor.reshape()`. |\n",
        "| [`Tensor.view(bentuk)`](https://pytorch.org/docs/stable/generated/torch.Tensor.view.html) | Mengembalikan tampilan tensor asli dalam `bentuk` berbeda tetapi berbagi data yang sama dengan tensor asli. |\n",
        "| [`torch.stack(tensor, dim=0)`](https://pytorch.org/docs/1.9.1/generated/torch.stack.html) | Menggabungkan urutan `tensor` sepanjang dimensi baru (`dim`), semua `tensor` harus berukuran sama. |\n",
        "| [`torch.squeeze(input)`](https://pytorch.org/docs/stable/generated/torch.squeeze.html) | Peras `input` untuk menghapus semua dimensi dengan nilai `1`. |\n",
        "| [`torch.unsqueeze(input, redup)`](https://pytorch.org/docs/1.9.1/generated/torch.unsqueeze.html) | Mengembalikan `input` dengan nilai dimensi `1` yang ditambahkan pada `dim`. |\n",
        "| [`torch.permute(input, meredupkan)`](https://pytorch.org/docs/stable/generated/torch.permute.html) | Mengembalikan *tampilan* `input` asli dengan dimensinya yang diubah (diatur ulang) menjadi `dims`. |\n",
        "\n",
        "Mengapa melakukan semua ini?\n",
        "\n",
        "Karena model pembelajaran mendalam (jaringan saraf) adalah tentang memanipulasi tensor dengan cara tertentu. Dan karena aturan perkalian matriks, jika ada ketidakcocokan bentuk, Anda akan mengalami kesalahan. Metode ini membantu Anda memastikan elemen yang tepat dari tensor Anda tercampur dengan elemen yang tepat dari tensor lainnya.\n",
        "\n",
        "Mari kita mencobanya.\n",
        "\n",
        "Pertama, kita akan membuat tensor."
      ]
    },
    {
      "cell_type": "code",
      "execution_count": null,
      "metadata": {
        "id": "EYjRTLOzG4Ev",
        "colab": {
          "base_uri": "https://localhost:8080/"
        },
        "outputId": "4594f097-a38f-4580-828b-b7ea55cdb591"
      },
      "outputs": [
        {
          "output_type": "execute_result",
          "data": {
            "text/plain": [
              "(tensor([1., 2., 3., 4., 5., 6., 7.]), torch.Size([7]))"
            ]
          },
          "metadata": {},
          "execution_count": 52
        }
      ],
      "source": [
        "# Create a tensor\n",
        "import torch\n",
        "x = torch.arange(1., 8.)\n",
        "x, x.shape"
      ]
    },
    {
      "cell_type": "markdown",
      "metadata": {
        "id": "3_VarMO9CoT8"
      },
      "source": [
        "Sekarang mari tambahkan dimensi ekstra dengan `torch.reshape()`."
      ]
    },
    {
      "cell_type": "code",
      "execution_count": null,
      "metadata": {
        "id": "US4WjpQ3SG-8",
        "colab": {
          "base_uri": "https://localhost:8080/"
        },
        "outputId": "80ffb913-dd7c-4f06-d06f-d48b27319855"
      },
      "outputs": [
        {
          "output_type": "execute_result",
          "data": {
            "text/plain": [
              "(tensor([[1., 2., 3., 4., 5., 6., 7.]]), torch.Size([1, 7]))"
            ]
          },
          "metadata": {},
          "execution_count": 53
        }
      ],
      "source": [
        "# Add an extra dimension\n",
        "x_reshaped = x.reshape(1, 7)\n",
        "x_reshaped, x_reshaped.shape"
      ]
    },
    {
      "cell_type": "markdown",
      "metadata": {
        "id": "tig5xm0jCxuU"
      },
      "source": [
        "Kita juga bisa mengubah tampilan dengan `torch.view()`."
      ]
    },
    {
      "cell_type": "code",
      "execution_count": null,
      "metadata": {
        "id": "WDN2BNe5TGfB",
        "colab": {
          "base_uri": "https://localhost:8080/"
        },
        "outputId": "e62b2179-43a4-4429-fd29-a1e42496ec35"
      },
      "outputs": [
        {
          "output_type": "execute_result",
          "data": {
            "text/plain": [
              "(tensor([[1., 2., 3., 4., 5., 6., 7.]]), torch.Size([1, 7]))"
            ]
          },
          "metadata": {},
          "execution_count": 54
        }
      ],
      "source": [
        "# Change view (keeps same data as original but changes view)\n",
        "# See more: https://stackoverflow.com/a/54507446/7900723\n",
        "z = x.view(1, 7)\n",
        "z, z.shape"
      ]
    },
    {
      "cell_type": "markdown",
      "metadata": {
        "id": "m8joAaUEC2NX"
      },
      "source": [
        "Namun ingat, mengubah tampilan tensor dengan `torch.view()` sebenarnya hanya membuat tampilan baru dari tensor yang *sama*.\n",
        "\n",
        "Jadi mengubah tampilan juga akan mengubah tensor aslinya.\n"
      ]
    },
    {
      "cell_type": "code",
      "execution_count": null,
      "metadata": {
        "id": "2DxURVvXTGfC",
        "colab": {
          "base_uri": "https://localhost:8080/"
        },
        "outputId": "7e7d0ca4-f5e7-4d32-92da-d1a961ee7694"
      },
      "outputs": [
        {
          "output_type": "execute_result",
          "data": {
            "text/plain": [
              "(tensor([[5., 2., 3., 4., 5., 6., 7.]]), tensor([5., 2., 3., 4., 5., 6., 7.]))"
            ]
          },
          "metadata": {},
          "execution_count": 55
        }
      ],
      "source": [
        "# Changing z changes x\n",
        "z[:, 0] = 5\n",
        "z, x"
      ]
    },
    {
      "cell_type": "markdown",
      "metadata": {
        "id": "YxnqDBlpDDJ_"
      },
      "source": [
        "ika kita ingin menumpuk tensor baru di atasnya sebanyak lima kali, kita dapat melakukannya dengan `torch.stack()`."
      ]
    },
    {
      "cell_type": "code",
      "execution_count": null,
      "metadata": {
        "id": "pX5Adf3ORiTK",
        "colab": {
          "base_uri": "https://localhost:8080/"
        },
        "outputId": "c8229dd3-52d5-4e41-c7b2-b340770f345d"
      },
      "outputs": [
        {
          "output_type": "execute_result",
          "data": {
            "text/plain": [
              "tensor([[5., 2., 3., 4., 5., 6., 7.],\n",
              "        [5., 2., 3., 4., 5., 6., 7.],\n",
              "        [5., 2., 3., 4., 5., 6., 7.],\n",
              "        [5., 2., 3., 4., 5., 6., 7.]])"
            ]
          },
          "metadata": {},
          "execution_count": 56
        }
      ],
      "source": [
        "# Stack tensors on top of each other\n",
        "x_stacked = torch.stack([x, x, x, x], dim=0) # try changing dim to dim=1 and see what happens\n",
        "x_stacked"
      ]
    },
    {
      "cell_type": "markdown",
      "metadata": {
        "id": "ET56QzNHDuOI"
      },
      "source": [
        "Bagaimana kalau menghapus semua dimensi tunggal dari tensor?\n",
        "\n",
        "Untuk melakukannya, Anda dapat menggunakan `torch.squeeze()` (Saya ingat ini sebagai *memeras* tensor agar hanya memiliki dimensi lebih dari 1).\n"
      ]
    },
    {
      "cell_type": "code",
      "execution_count": null,
      "metadata": {
        "id": "w2Y2HEoDRxJZ",
        "colab": {
          "base_uri": "https://localhost:8080/"
        },
        "outputId": "2a681e44-1ae2-44bb-8636-d7a159216e05"
      },
      "outputs": [
        {
          "output_type": "stream",
          "name": "stdout",
          "text": [
            "Previous tensor: tensor([[5., 2., 3., 4., 5., 6., 7.]])\n",
            "Previous shape: torch.Size([1, 7])\n",
            "\n",
            "New tensor: tensor([5., 2., 3., 4., 5., 6., 7.])\n",
            "New shape: torch.Size([7])\n"
          ]
        }
      ],
      "source": [
        "print(f\"Previous tensor: {x_reshaped}\")\n",
        "print(f\"Previous shape: {x_reshaped.shape}\")\n",
        "\n",
        "# Remove extra dimension from x_reshaped\n",
        "x_squeezed = x_reshaped.squeeze()\n",
        "print(f\"\\nNew tensor: {x_squeezed}\")\n",
        "print(f\"New shape: {x_squeezed.shape}\")"
      ]
    },
    {
      "cell_type": "markdown",
      "metadata": {
        "id": "acjDLk8WD8NC"
      },
      "source": [
        "Dan untuk melakukan kebalikan dari `torch.squeeze()` Anda dapat menggunakan `torch.unsqueeze()` untuk menambahkan nilai dimensi 1 pada indeks tertentu."
      ]
    },
    {
      "cell_type": "code",
      "execution_count": null,
      "metadata": {
        "id": "CUC-DEEwSYv7",
        "colab": {
          "base_uri": "https://localhost:8080/"
        },
        "outputId": "7ce3c379-cba1-4acc-a765-c4a1b69bc2a8"
      },
      "outputs": [
        {
          "output_type": "stream",
          "name": "stdout",
          "text": [
            "Previous tensor: tensor([5., 2., 3., 4., 5., 6., 7.])\n",
            "Previous shape: torch.Size([7])\n",
            "\n",
            "New tensor: tensor([[5., 2., 3., 4., 5., 6., 7.]])\n",
            "New shape: torch.Size([1, 7])\n"
          ]
        }
      ],
      "source": [
        "print(f\"Previous tensor: {x_squeezed}\")\n",
        "print(f\"Previous shape: {x_squeezed.shape}\")\n",
        "\n",
        "## Add an extra dimension with unsqueeze\n",
        "x_unsqueezed = x_squeezed.unsqueeze(dim=0)\n",
        "print(f\"\\nNew tensor: {x_unsqueezed}\")\n",
        "print(f\"New shape: {x_unsqueezed.shape}\")"
      ]
    },
    {
      "cell_type": "markdown",
      "metadata": {
        "id": "R9DuJzXgFbM5"
      },
      "source": [
        "Anda juga dapat mengatur ulang urutan nilai sumbu dengan `torch.permute(input, dims)`, dengan `input` diubah menjadi *tampilan* dengan `dims` baru."
      ]
    },
    {
      "cell_type": "code",
      "execution_count": null,
      "metadata": {
        "id": "fCRGCX8DTGfC",
        "colab": {
          "base_uri": "https://localhost:8080/"
        },
        "outputId": "b3741c33-d28b-43f0-e20e-097986fcac96"
      },
      "outputs": [
        {
          "output_type": "stream",
          "name": "stdout",
          "text": [
            "Previous shape: torch.Size([224, 224, 3])\n",
            "New shape: torch.Size([3, 224, 224])\n"
          ]
        }
      ],
      "source": [
        "# Create tensor with specific shape\n",
        "x_original = torch.rand(size=(224, 224, 3))\n",
        "\n",
        "# Permute the original tensor to rearrange the axis order\n",
        "x_permuted = x_original.permute(2, 0, 1) # shifts axis 0->1, 1->2, 2->0\n",
        "\n",
        "print(f\"Previous shape: {x_original.shape}\")\n",
        "print(f\"New shape: {x_permuted.shape}\")"
      ]
    },
    {
      "cell_type": "markdown",
      "metadata": {
        "id": "06LKaFemGBoE"
      },
      "source": [
        "> **Catatan**: Karena permutasi akan mengembalikan *tampilan* (berbagi data yang sama dengan aslinya), nilai dalam tensor yang diijinkan akan sama dengan tensor asli dan jika Anda mengubah nilai dalam tampilan, nilai tersebut akan berubah mengubah nilai aslinya."
      ]
    },
    {
      "cell_type": "markdown",
      "metadata": {
        "id": "nEPqVL7fTGfC"
      },
      "source": [
        "## Indexing (selecting data from tensors)\n",
        "\n",
        "Terkadang Anda ingin memilih data tertentu dari tensor (misalnya, hanya kolom pertama atau baris kedua).\n",
        "\n",
        "Untuk melakukannya, Anda dapat menggunakan pengindeksan.\n",
        "\n",
        "Jika Anda pernah melakukan pengindeksan pada daftar Python atau array NumPy, pengindeksan di PyTorch dengan tensor sangat mirip."
      ]
    },
    {
      "cell_type": "code",
      "execution_count": null,
      "metadata": {
        "id": "oSXzdxCQTGfD",
        "colab": {
          "base_uri": "https://localhost:8080/"
        },
        "outputId": "951c264e-9d57-44ed-fe2a-3aedb979e31c"
      },
      "outputs": [
        {
          "output_type": "execute_result",
          "data": {
            "text/plain": [
              "(tensor([[[1, 2, 3],\n",
              "          [4, 5, 6],\n",
              "          [7, 8, 9]]]),\n",
              " torch.Size([1, 3, 3]))"
            ]
          },
          "metadata": {},
          "execution_count": 60
        }
      ],
      "source": [
        "# Create a tensor\n",
        "import torch\n",
        "x = torch.arange(1, 10).reshape(1, 3, 3)\n",
        "x, x.shape"
      ]
    },
    {
      "cell_type": "markdown",
      "metadata": {
        "id": "xQG5krnKG43B"
      },
      "source": [
        "Nilai pengindeksan menjadi dimensi luar -> dimensi dalam (lihat tanda kurung siku)."
      ]
    },
    {
      "cell_type": "code",
      "execution_count": null,
      "metadata": {
        "id": "zv_Z3IAzTGfD",
        "colab": {
          "base_uri": "https://localhost:8080/"
        },
        "outputId": "ae701ac1-24fa-4384-da3f-2d0e95f16566"
      },
      "outputs": [
        {
          "output_type": "stream",
          "name": "stdout",
          "text": [
            "First square bracket:\n",
            "tensor([[1, 2, 3],\n",
            "        [4, 5, 6],\n",
            "        [7, 8, 9]])\n",
            "Second square bracket: tensor([1, 2, 3])\n",
            "Third square bracket: 1\n"
          ]
        }
      ],
      "source": [
        "# Let's index bracket by bracket\n",
        "print(f\"First square bracket:\\n{x[0]}\")\n",
        "print(f\"Second square bracket: {x[0][0]}\")\n",
        "print(f\"Third square bracket: {x[0][0][0]}\")"
      ]
    },
    {
      "cell_type": "markdown",
      "metadata": {
        "id": "XaLjaIFxHe89"
      },
      "source": [
        "Anda juga dapat menggunakan `:` untuk menentukan \"semua nilai dalam dimensi ini\" lalu menggunakan koma (`,`) untuk menambahkan dimensi lain."
      ]
    },
    {
      "cell_type": "code",
      "execution_count": null,
      "metadata": {
        "id": "gCT09pqeTGfD",
        "colab": {
          "base_uri": "https://localhost:8080/"
        },
        "outputId": "9034fd93-1083-4718-ac25-6ce96d9ad89a"
      },
      "outputs": [
        {
          "output_type": "execute_result",
          "data": {
            "text/plain": [
              "tensor([[1, 2, 3]])"
            ]
          },
          "metadata": {},
          "execution_count": 62
        }
      ],
      "source": [
        "# Get all values of 0th dimension and the 0 index of 1st dimension\n",
        "x[:, 0]"
      ]
    },
    {
      "cell_type": "code",
      "execution_count": null,
      "metadata": {
        "id": "dwDx_gMsTGfD",
        "colab": {
          "base_uri": "https://localhost:8080/"
        },
        "outputId": "c8e73793-a732-4501-96dd-745a2bda3def"
      },
      "outputs": [
        {
          "output_type": "execute_result",
          "data": {
            "text/plain": [
              "tensor([[2, 5, 8]])"
            ]
          },
          "metadata": {},
          "execution_count": 63
        }
      ],
      "source": [
        "# Get all values of 0th & 1st dimensions but only index 1 of 2nd dimension\n",
        "x[:, :, 1]"
      ]
    },
    {
      "cell_type": "code",
      "execution_count": null,
      "metadata": {
        "id": "xiw3_1E3TGfD",
        "colab": {
          "base_uri": "https://localhost:8080/"
        },
        "outputId": "902edf0e-f6a7-4567-9cb4-6a37499cc1fd"
      },
      "outputs": [
        {
          "output_type": "execute_result",
          "data": {
            "text/plain": [
              "tensor([5])"
            ]
          },
          "metadata": {},
          "execution_count": 64
        }
      ],
      "source": [
        "# Get all values of the 0 dimension but only the 1 index value of the 1st and 2nd dimension\n",
        "x[:, 1, 1]"
      ]
    },
    {
      "cell_type": "code",
      "execution_count": null,
      "metadata": {
        "id": "XFVEgrKhTGfD",
        "colab": {
          "base_uri": "https://localhost:8080/"
        },
        "outputId": "b5fa0306-c131-40d7-87a6-59b5fee137fc"
      },
      "outputs": [
        {
          "output_type": "execute_result",
          "data": {
            "text/plain": [
              "tensor([1, 2, 3])"
            ]
          },
          "metadata": {},
          "execution_count": 65
        }
      ],
      "source": [
        "# Get index 0 of 0th and 1st dimension and all values of 2nd dimension\n",
        "x[0, 0, :] # same as x[0][0]"
      ]
    },
    {
      "cell_type": "markdown",
      "metadata": {
        "id": "6Ik0r11RIxtm"
      },
      "source": [
        "Pengindeksan bisa sangat membingungkan pada awalnya, terutama dengan tensor yang lebih besar (saya masih harus mencoba mengindeks beberapa kali untuk melakukannya dengan benar). Namun dengan sedikit latihan dan mengikuti moto penjelajah data (***visualisasikan, visualisasikan, visualisasi***), Anda akan mulai menguasainya."
      ]
    },
    {
      "cell_type": "markdown",
      "metadata": {
        "id": "h8ZaW0Bq7rCm"
      },
      "source": [
        "## PyTorch tensors & NumPy\n",
        "\n",
        "Karena NumPy adalah pustaka komputasi numerik Python yang populer, PyTorch memiliki fungsi untuk berinteraksi dengan baik.\n",
        "\n",
        "Dua metode utama yang ingin Anda gunakan untuk NumPy ke PyTorch (dan kembali lagi) adalah:\n",
        "* [`torch.from_numpy(ndarray)`](https://pytorch.org/docs/stable/generated/torch.from_numpy.html) - Array NumPy -> tensor PyTorch.\n",
        "* [`torch.Tensor.numpy()`](https://pytorch.org/docs/stable/generated/torch.Tensor.numpy.html) - Tensor PyTorch -> Array NumPy.\n",
        "\n",
        "Mari kita mencobanya."
      ]
    },
    {
      "cell_type": "code",
      "execution_count": null,
      "metadata": {
        "id": "yDrDCnvY7rKS",
        "colab": {
          "base_uri": "https://localhost:8080/"
        },
        "outputId": "2ce7be9e-e4df-44e5-d4ce-6bb1fd5b0f7e"
      },
      "outputs": [
        {
          "output_type": "execute_result",
          "data": {
            "text/plain": [
              "(array([1., 2., 3., 4., 5., 6., 7.]),\n",
              " tensor([1., 2., 3., 4., 5., 6., 7.], dtype=torch.float64))"
            ]
          },
          "metadata": {},
          "execution_count": 66
        }
      ],
      "source": [
        "# NumPy array to tensor\n",
        "import torch\n",
        "import numpy as np\n",
        "array = np.arange(1.0, 8.0)\n",
        "tensor = torch.from_numpy(array)\n",
        "array, tensor"
      ]
    },
    {
      "cell_type": "markdown",
      "metadata": {
        "id": "16JG6cONLPnO"
      },
      "source": [
        "> **Catatan:** Secara default, array NumPy dibuat dengan tipe data `float64` dan jika Anda mengonversinya menjadi tensor PyTorch, tipe datanya akan tetap sama (seperti di atas).\n",
        ">\n",
        "> Namun, banyak penghitungan PyTorch yang defaultnya menggunakan `float32`.\n",
        ">\n",
        "> Jadi jika Anda ingin mengonversi array NumPy (float64) -> Tensor PyTorch (float64) -> Tensor PyTorch (float32), Anda dapat menggunakan `tensor = torch.from_numpy(array).type(torch.float32)`.\n",
        "\n",
        "Karena kami menetapkan ulang `tensor` di atas, jika Anda mengubah tensor, arraynya akan tetap sama.\n"
      ]
    },
    {
      "cell_type": "code",
      "execution_count": null,
      "metadata": {
        "id": "ovwl7VCREv8L",
        "colab": {
          "base_uri": "https://localhost:8080/"
        },
        "outputId": "9aec4417-e0f8-4bfa-e57b-afb30f025dc9"
      },
      "outputs": [
        {
          "output_type": "execute_result",
          "data": {
            "text/plain": [
              "(array([2., 3., 4., 5., 6., 7., 8.]),\n",
              " tensor([1., 2., 3., 4., 5., 6., 7.], dtype=torch.float64))"
            ]
          },
          "metadata": {},
          "execution_count": 67
        }
      ],
      "source": [
        "# Change the array, keep the tensor\n",
        "array = array + 1\n",
        "array, tensor"
      ]
    },
    {
      "cell_type": "markdown",
      "metadata": {
        "id": "geVvu1p0MTWc"
      },
      "source": [
        "Dan jika Anda ingin beralih dari tensor PyTorch ke array NumPy, Anda dapat memanggil `tensor.numpy()`."
      ]
    },
    {
      "cell_type": "code",
      "execution_count": null,
      "metadata": {
        "id": "xw_7ZyVaTKxQ",
        "colab": {
          "base_uri": "https://localhost:8080/"
        },
        "outputId": "9890cc34-c619-40e1-92bb-30d6a422cd58"
      },
      "outputs": [
        {
          "output_type": "execute_result",
          "data": {
            "text/plain": [
              "(tensor([1., 1., 1., 1., 1., 1., 1.]),\n",
              " array([1., 1., 1., 1., 1., 1., 1.], dtype=float32))"
            ]
          },
          "metadata": {},
          "execution_count": 68
        }
      ],
      "source": [
        "# Tensor to NumPy array\n",
        "tensor = torch.ones(7) # create a tensor of ones with dtype=float32\n",
        "numpy_tensor = tensor.numpy() # will be dtype=float32 unless changed\n",
        "tensor, numpy_tensor"
      ]
    },
    {
      "cell_type": "markdown",
      "metadata": {
        "id": "Dt8yEV1jMfi2"
      },
      "source": [
        "[teks link](https://)Dan aturan yang sama berlaku seperti di atas, jika Anda mengubah `tensor` asli, `numpy_tensor` baru tetap sama."
      ]
    },
    {
      "cell_type": "code",
      "execution_count": null,
      "metadata": {
        "id": "mMp6ZSkET4_Y",
        "colab": {
          "base_uri": "https://localhost:8080/"
        },
        "outputId": "0cef7460-6536-4f05-c1c5-d801f21ac64f"
      },
      "outputs": [
        {
          "output_type": "execute_result",
          "data": {
            "text/plain": [
              "(tensor([2., 2., 2., 2., 2., 2., 2.]),\n",
              " array([1., 1., 1., 1., 1., 1., 1.], dtype=float32))"
            ]
          },
          "metadata": {},
          "execution_count": 69
        }
      ],
      "source": [
        "# Change the tensor, keep the array the same\n",
        "tensor = tensor + 1\n",
        "tensor, numpy_tensor"
      ]
    },
    {
      "cell_type": "markdown",
      "metadata": {
        "id": "7gU3ubCrUkI-"
      },
      "source": [
        "## Reproducibility (trying to take the random out of random)\n",
        "\n",
        "Saat Anda mempelajari lebih lanjut tentang jaringan saraf dan pembelajaran mesin, Anda akan mulai menemukan seberapa besar peran keacakan.\n",
        "\n",
        "Ya, itu adalah keacakan semu. Karena bagaimanapun juga, ketika dirancang, sebuah komputer pada dasarnya bersifat deterministik (setiap langkah dapat diprediksi) sehingga keacakan yang dihasilkannya adalah keacakan yang disimulasikan (walaupun ada perdebatan mengenai hal ini juga, namun karena saya bukan seorang ilmuwan komputer, saya' Saya akan membiarkan Anda mengetahui lebih lanjut sendiri).\n",
        "\n",
        "Lalu bagaimana hubungannya dengan jaringan saraf dan pembelajaran mendalam?\n",
        "\n",
        "Kita telah membahas jaringan saraf yang dimulai dengan angka acak untuk mendeskripsikan pola dalam data (angka-angka ini adalah deskripsi yang buruk) dan mencoba meningkatkan angka acak tersebut menggunakan operasi tensor (dan beberapa hal lain yang belum kita bahas) untuk mendeskripsikan pola dengan lebih baik. data.\n",
        "\n",
        "Pendeknya:\n",
        "\n",
        "``mulai dengan angka acak -> operasi tensor -> coba menjadi lebih baik (lagi dan lagi dan lagi)``\n",
        "\n",
        "Meskipun keacakan itu bagus dan kuat, terkadang Anda ingin mengurangi keacakan.\n",
        "\n",
        "Mengapa?\n",
        "\n",
        "Jadi, Anda dapat melakukan eksperimen berulang.\n",
        "\n",
        "Misalnya, Anda membuat algoritme yang mampu mencapai performa X.\n",
        "\n",
        "Dan kemudian teman Anda mencobanya untuk memverifikasi bahwa Anda tidak gila.\n",
        "\n",
        "Bagaimana mereka bisa melakukan hal seperti itu?\n",
        "\n",
        "Di sinilah **reprodusibilitas** berperan.\n",
        "\n",
        "Dengan kata lain, bisakah Anda mendapatkan hasil yang sama (atau sangat mirip) di komputer Anda yang menjalankan kode yang sama seperti yang saya dapatkan di komputer saya?\n",
        "\n",
        "Mari kita lihat contoh singkat reproduksibilitas di PyTorch.\n",
        "\n",
        "Kita akan mulai dengan membuat dua tensor acak, karena keduanya acak, Anda pasti mengira keduanya berbeda, bukan?"
      ]
    },
    {
      "cell_type": "code",
      "execution_count": null,
      "metadata": {
        "id": "eSwxnwEbTGfF",
        "colab": {
          "base_uri": "https://localhost:8080/"
        },
        "outputId": "692d37e1-598d-4288-dcd2-2ce9e70dff8f"
      },
      "outputs": [
        {
          "output_type": "stream",
          "name": "stdout",
          "text": [
            "Tensor A:\n",
            "tensor([[0.8016, 0.3649, 0.6286, 0.9663],\n",
            "        [0.7687, 0.4566, 0.5745, 0.9200],\n",
            "        [0.3230, 0.8613, 0.0919, 0.3102]])\n",
            "\n",
            "Tensor B:\n",
            "tensor([[0.9536, 0.6002, 0.0351, 0.6826],\n",
            "        [0.3743, 0.5220, 0.1336, 0.9666],\n",
            "        [0.9754, 0.8474, 0.8988, 0.1105]])\n",
            "\n",
            "Does Tensor A equal Tensor B? (anywhere)\n"
          ]
        },
        {
          "output_type": "execute_result",
          "data": {
            "text/plain": [
              "tensor([[False, False, False, False],\n",
              "        [False, False, False, False],\n",
              "        [False, False, False, False]])"
            ]
          },
          "metadata": {},
          "execution_count": 70
        }
      ],
      "source": [
        "import torch\n",
        "\n",
        "# Create two random tensors\n",
        "random_tensor_A = torch.rand(3, 4)\n",
        "random_tensor_B = torch.rand(3, 4)\n",
        "\n",
        "print(f\"Tensor A:\\n{random_tensor_A}\\n\")\n",
        "print(f\"Tensor B:\\n{random_tensor_B}\\n\")\n",
        "print(f\"Does Tensor A equal Tensor B? (anywhere)\")\n",
        "random_tensor_A == random_tensor_B"
      ]
    },
    {
      "cell_type": "markdown",
      "metadata": {
        "id": "nPU6mDKJnr8M"
      },
      "source": [
        "Seperti yang Anda duga, tensornya memiliki nilai yang berbeda.\n",
        "\n",
        "Namun bagaimana jika Anda ingin membuat dua tensor acak dengan nilai *sama*.\n",
        "\n",
        "Seperti halnya, tensor akan tetap berisi nilai acak tetapi rasanya sama.\n",
        "\n",
        "Di situlah [`torch.manual_seed(seed)`](https://pytorch.org/docs/stable/generated/torch.manual_seed.html) berperan, dengan `seed` berupa bilangan bulat (seperti `42` tetapi bisa apa saja) yang menimbulkan keacakan.\n",
        "\n",
        "Mari kita mencobanya dengan membuat lebih banyak tensor acak *berrasa*."
      ]
    },
    {
      "cell_type": "code",
      "execution_count": null,
      "metadata": {
        "id": "sB6d1GfYTGfF",
        "colab": {
          "base_uri": "https://localhost:8080/"
        },
        "outputId": "2e2a954e-2444-4123-a9c5-5163e28ab603"
      },
      "outputs": [
        {
          "output_type": "stream",
          "name": "stdout",
          "text": [
            "Tensor C:\n",
            "tensor([[0.8823, 0.9150, 0.3829, 0.9593],\n",
            "        [0.3904, 0.6009, 0.2566, 0.7936],\n",
            "        [0.9408, 0.1332, 0.9346, 0.5936]])\n",
            "\n",
            "Tensor D:\n",
            "tensor([[0.8823, 0.9150, 0.3829, 0.9593],\n",
            "        [0.3904, 0.6009, 0.2566, 0.7936],\n",
            "        [0.9408, 0.1332, 0.9346, 0.5936]])\n",
            "\n",
            "Does Tensor C equal Tensor D? (anywhere)\n"
          ]
        },
        {
          "output_type": "execute_result",
          "data": {
            "text/plain": [
              "tensor([[True, True, True, True],\n",
              "        [True, True, True, True],\n",
              "        [True, True, True, True]])"
            ]
          },
          "metadata": {},
          "execution_count": 71
        }
      ],
      "source": [
        "import torch\n",
        "import random\n",
        "\n",
        "# # Set the random seed\n",
        "RANDOM_SEED=42 # try changing this to different values and see what happens to the numbers below\n",
        "torch.manual_seed(seed=RANDOM_SEED)\n",
        "random_tensor_C = torch.rand(3, 4)\n",
        "\n",
        "# Have to reset the seed every time a new rand() is called\n",
        "# Without this, tensor_D would be different to tensor_C\n",
        "torch.random.manual_seed(seed=RANDOM_SEED) # try commenting this line out and seeing what happens\n",
        "random_tensor_D = torch.rand(3, 4)\n",
        "\n",
        "print(f\"Tensor C:\\n{random_tensor_C}\\n\")\n",
        "print(f\"Tensor D:\\n{random_tensor_D}\\n\")\n",
        "print(f\"Does Tensor C equal Tensor D? (anywhere)\")\n",
        "random_tensor_C == random_tensor_D"
      ]
    },
    {
      "cell_type": "markdown",
      "metadata": {
        "id": "uct53Xr5QRC_"
      },
      "source": [
        "Bagus!\n",
        "\n",
        "Sepertinya pengaturan benih berhasil.\n",
        "\n",
        "> **Sumber Daya:** Apa yang baru saja kita bahas hanya membahas permukaan reproduktifitas di PyTorch. Untuk informasi lebih lanjut, tentang reproduksibilitas secara umum dan benih acak, saya akan memeriksa:\n",
        "> * [Dokumentasi reproduksibilitas PyTorch](https://pytorch.org/docs/stable/notes/randomness.html) (latihan yang baik adalah membaca ini selama 10 menit dan bahkan jika Anda tidak memahaminya sekarang, menyadari hal itu adalah penting).\n",
        "> * [Halaman benih acak Wikipedia](https://en.wikipedia.org/wiki/Random_seed) (ini akan memberikan gambaran umum yang bagus tentang benih acak dan keacakan semu secara umum)."
      ]
    },
    {
      "cell_type": "markdown",
      "metadata": {
        "id": "hxIIM7t27rQ-"
      },
      "source": [
        "## Running tensors on GPUs (and making faster computations)\n",
        "\n",
        "Algoritme pembelajaran mendalam memerlukan banyak operasi numerik.\n",
        "\n",
        "Dan secara default operasi ini sering dilakukan pada CPU (unit pengolah komputer).\n",
        "\n",
        "Namun, ada perangkat keras umum lainnya yang disebut GPU (unit pemrosesan grafis), yang seringkali jauh lebih cepat dalam melakukan jenis operasi tertentu yang dibutuhkan jaringan saraf (perkalian matriks) dibandingkan CPU.\n",
        "\n",
        "Komputer Anda mungkin memilikinya.\n",
        "\n",
        "Jika demikian, Anda harus menggunakannya kapan pun Anda bisa untuk melatih jaringan saraf karena kemungkinan besar ini akan mempercepat waktu pelatihan secara dramatis.\n",
        "\n",
        "Ada beberapa cara untuk pertama mendapatkan akses ke GPU dan kedua membuat PyTorch menggunakan GPU tersebut.\n",
        "\n",
        "> **Catatan:** Saat saya merujuk \"GPU\" sepanjang kursus ini, saya merujuk pada [GPU Nvidia dengan CUDA](https://developer.nvidia.com/cuda-gpus) yang diaktifkan (CUDA adalah platform komputasi dan API yang membantu memungkinkan GPU digunakan untuk komputasi tujuan umum & bukan hanya grafis) kecuali ditentukan lain.\n",
        "\n"
      ]
    },
    {
      "cell_type": "markdown",
      "metadata": {
        "id": "0UiR6QpoYQH_"
      },
      "source": [
        "\n",
        "### 1. Getting a GPU\n",
        "\n",
        "Anda mungkin sudah tahu apa yang terjadi ketika saya mengatakan GPU. Namun jika tidak, ada beberapa cara untuk mengaksesnya.\n",
        "\n",
        "| **Metode** | **Kesulitan dalam penyiapan** | **Kelebihan** | **Kontra** | **Cara pengaturan** |\n",
        "| ----- | ----- | ----- | ----- | ----- |\n",
        "| Google Kolab | Mudah | Gratis untuk digunakan, hampir tidak diperlukan pengaturan, dapat berbagi pekerjaan dengan orang lain semudah tautan | Tidak menyimpan keluaran data Anda, komputasi terbatas, tunduk pada batas waktu | [Ikuti Panduan Google Colab](https://colab.research.google.com/notebooks/gpu.ipynb) |\n",
        "| Gunakan | Sedang | Jalankan semuanya secara lokal di mesin Anda sendiri | GPU tidak gratis, memerlukan biaya di muka | Ikuti [panduan instalasi PyTorch](https://pytorch.org/get-started/locally/) |\n",
        "| Komputasi awan (AWS, GCP, Azure) | Sedang-Keras | Biaya awal yang kecil, akses ke komputasi yang hampir tak terbatas | Bisa mahal jika dijalankan terus-menerus, memerlukan waktu untuk menyiapkannya kan | Ikuti [panduan instalasi PyTorch](https://pytorch.org/get-started/cloud-partners/) |\n",
        "\n",
        "Ada lebih banyak pilihan untuk menggunakan GPU tetapi tiga di atas sudah cukup untuk saat ini.\n",
        "\n",
        "Secara pribadi, saya menggunakan kombinasi Google Colab dan komputer pribadi saya untuk eksperimen skala kecil (dan membuat kursus ini) dan menggunakan sumber daya cloud saat saya membutuhkan lebih banyak daya komputasi.\n",
        "\n",
        "> **Referensi:** Jika Anda ingin membeli GPU sendiri tetapi tidak yakin apa yang harus dibeli, [Tim Dettmers memiliki panduan yang bagus](https://timdettmers.com/2020/09/07/which -gpu-untuk-pembelajaran mendalam/).\n",
        "\n",
        "Untuk memeriksa apakah Anda memiliki akses ke GPU Nvidia, Anda dapat menjalankan `!nvidia-smi` dengan tanda `!` (juga disebut bang) berarti \"jalankan ini di baris perintah\".\n",
        "\n"
      ]
    },
    {
      "cell_type": "code",
      "execution_count": null,
      "metadata": {
        "id": "vEMcO-9zYc-w",
        "colab": {
          "base_uri": "https://localhost:8080/"
        },
        "outputId": "a8a06696-89dd-4a9d-c82c-6408c910d743"
      },
      "outputs": [
        {
          "output_type": "stream",
          "name": "stdout",
          "text": [
            "Thu Jan  4 07:38:51 2024       \n",
            "+---------------------------------------------------------------------------------------+\n",
            "| NVIDIA-SMI 535.104.05             Driver Version: 535.104.05   CUDA Version: 12.2     |\n",
            "|-----------------------------------------+----------------------+----------------------+\n",
            "| GPU  Name                 Persistence-M | Bus-Id        Disp.A | Volatile Uncorr. ECC |\n",
            "| Fan  Temp   Perf          Pwr:Usage/Cap |         Memory-Usage | GPU-Util  Compute M. |\n",
            "|                                         |                      |               MIG M. |\n",
            "|=========================================+======================+======================|\n",
            "|   0  Tesla T4                       Off | 00000000:00:04.0 Off |                    0 |\n",
            "| N/A   38C    P8               9W /  70W |      0MiB / 15360MiB |      0%      Default |\n",
            "|                                         |                      |                  N/A |\n",
            "+-----------------------------------------+----------------------+----------------------+\n",
            "                                                                                         \n",
            "+---------------------------------------------------------------------------------------+\n",
            "| Processes:                                                                            |\n",
            "|  GPU   GI   CI        PID   Type   Process name                            GPU Memory |\n",
            "|        ID   ID                                                             Usage      |\n",
            "|=======================================================================================|\n",
            "|  No running processes found                                                           |\n",
            "+---------------------------------------------------------------------------------------+\n"
          ]
        }
      ],
      "source": [
        "!nvidia-smi"
      ]
    },
    {
      "cell_type": "markdown",
      "metadata": {
        "id": "HvkB9p5zYf8E"
      },
      "source": [
        "Jika Anda tidak memiliki GPU Nvidia yang dapat diakses, tampilan di atas akan menghasilkan sesuatu seperti:\n",
        "\n",
        "```\n",
        "NVIDIA-SMI gagal karena tidak dapat berkomunikasi dengan driver NVIDIA. Pastikan driver NVIDIA terbaru telah diinstal dan dijalankan.\n",
        "```\n",
        "\n",
        "Jika demikian, kembali ke atas dan ikuti langkah-langkah penginstalan.\n",
        "\n",
        "Jika Anda memiliki GPU, baris di atas akan menampilkan sesuatu seperti:\n",
        "\n",
        "```\n",
        "Rabu 19 Januari 22:09:08 2022\n",
        "+------------------------------------------------- ----------------------------+\n",
        "| NVIDIA-SMI 495.46 Versi Driver: 460.32.03 Versi CUDA: 11.2 |\n",
        "|----------------+----------------- -----+-------+\n",
        "| Persistensi Nama GPU-M| Bus-Id Disp.A | Uncorr yang Volatil. ECC |\n",
        "| Performa Temperatur Kipas: Penggunaan/Batas| Penggunaan Memori | GPU-Util Hitung M. |\n",
        "| | | MIG M.|\n",
        "|================+== =====+=======|\n",
        "| 0 Tesla P100-PCIE... Mati | 00000000:00:04.0 Diskon | 0 |\n",
        "| Tidak Ada 35C P0 27W / 250W | 0MiB / 16280MiB | 0% Bawaan |\n",
        "| | | T/A |\n",
        "+----------------+----------------- -----+-------+\n",
        "                                                                               \n",
        "+------------------------------------------------- ----------------------------+\n",
        "| Proses: |\n",
        "| GPU GI CI Tipe PID Nama proses Memori GPU |\n",
        "| ID Penggunaan ID |\n",
        "| ===== =============|\n",
        "| Tidak ditemukan proses yang berjalan |\n",
        "+------------------------------------------------- ----------------------------+\n",
        "```"
      ]
    },
    {
      "cell_type": "markdown",
      "metadata": {
        "id": "UvibZ6e0YcDk"
      },
      "source": [
        "\n",
        "\n",
        "### 2. Getting PyTorch to run on the GPU\n",
        "\n",
        "Once you've got a GPU ready to access, the next step is getting PyTorch to use for storing data (tensors) and computing on data (performing operations on tensors).\n",
        "\n",
        "To do so, you can use the [`torch.cuda`](https://pytorch.org/docs/stable/cuda.html) package.\n",
        "\n",
        "Rather than talk about it, let's try it out.\n",
        "\n",
        "You can test if PyTorch has access to a GPU using [`torch.cuda.is_available()`](https://pytorch.org/docs/stable/generated/torch.cuda.is_available.html#torch.cuda.is_available).\n"
      ]
    },
    {
      "cell_type": "code",
      "execution_count": null,
      "metadata": {
        "id": "OweDLgwjEvZ2",
        "colab": {
          "base_uri": "https://localhost:8080/"
        },
        "outputId": "8707b40e-79b5-4a82-aba3-7aaa06db9e75"
      },
      "outputs": [
        {
          "output_type": "execute_result",
          "data": {
            "text/plain": [
              "True"
            ]
          },
          "metadata": {},
          "execution_count": 73
        }
      ],
      "source": [
        "# Check for GPU\n",
        "import torch\n",
        "torch.cuda.is_available()"
      ]
    },
    {
      "cell_type": "markdown",
      "metadata": {
        "id": "jedZcx2PZFpL"
      },
      "source": [
        "Jika keluaran di atas `True`, PyTorch dapat melihat dan menggunakan GPU, jika keluarannya `False`, PyTorch tidak dapat melihat GPU dan dalam hal ini, Anda harus kembali melalui langkah-langkah instalasi.\n",
        "\n",
        "Sekarang, katakanlah Anda ingin mengatur kode Anda agar berjalan pada CPU *atau* GPU jika tersedia.\n",
        "\n",
        "Dengan begitu, jika Anda atau seseorang memutuskan untuk menjalankan kode Anda, kode tersebut akan berfungsi terlepas dari perangkat komputasi yang mereka gunakan.\n",
        "\n",
        "Mari buat variabel `perangkat` untuk menyimpan jenis perangkat yang tersedia."
      ]
    },
    {
      "cell_type": "code",
      "execution_count": null,
      "metadata": {
        "id": "j92HBCKB7rYa",
        "colab": {
          "base_uri": "https://localhost:8080/",
          "height": 35
        },
        "outputId": "a76a5d44-abd5-4db4-bb39-3aeb3c52c33f"
      },
      "outputs": [
        {
          "output_type": "execute_result",
          "data": {
            "text/plain": [
              "'cuda'"
            ],
            "application/vnd.google.colaboratory.intrinsic+json": {
              "type": "string"
            }
          },
          "metadata": {},
          "execution_count": 74
        }
      ],
      "source": [
        "# Set device type\n",
        "device = \"cuda\" if torch.cuda.is_available() else \"cpu\"\n",
        "device"
      ]
    },
    {
      "cell_type": "markdown",
      "metadata": {
        "id": "FjFyPP2WaCch"
      },
      "source": [
        "Jika keluaran di atas `\"cuda\"` berarti kita dapat mengatur semua kode PyTorch kita untuk menggunakan perangkat CUDA yang tersedia (GPU) dan jika mengeluarkan `\"cpu\"`, kode PyTorch kita akan menempel pada CPU.\n",
        "\n",
        "> **Catatan:** Di PyTorch, praktik terbaiknya adalah menulis [**kode agnostik perangkat**](https://pytorch.org/docs/master/notes/cuda.html#device-agnostic-code). Ini berarti kode yang akan dijalankan pada CPU (selalu tersedia) atau GPU (jika tersedia).\n",
        "\n",
        "Jika Anda ingin melakukan komputasi lebih cepat, Anda dapat menggunakan GPU tetapi jika Anda ingin melakukan komputasi *jauh* lebih cepat, Anda dapat menggunakan beberapa GPU.\n",
        "\n",
        "Anda dapat menghitung jumlah GPU yang dapat diakses oleh PyTorch menggunakan [`torch.cuda.device_count()`](https://pytorch.org/docs/stable/generated/torch.cuda.device_count.html#torch.cuda. jumlah_perangkat).\n"
      ]
    },
    {
      "cell_type": "code",
      "execution_count": null,
      "metadata": {
        "id": "MArsn0DFTGfG",
        "colab": {
          "base_uri": "https://localhost:8080/"
        },
        "outputId": "2f49df5d-f741-4046-840c-24e361559489"
      },
      "outputs": [
        {
          "output_type": "execute_result",
          "data": {
            "text/plain": [
              "1"
            ]
          },
          "metadata": {},
          "execution_count": 75
        }
      ],
      "source": [
        "# Count number of devices\n",
        "torch.cuda.device_count()"
      ]
    },
    {
      "cell_type": "markdown",
      "metadata": {
        "id": "xVNf1hiqa-gO"
      },
      "source": [
        "Mengetahui jumlah GPU yang dapat diakses oleh PyTorch sangat membantu jika Anda ingin menjalankan proses tertentu pada satu GPU dan proses lain pada GPU lainnya (PyTorch juga memiliki fitur yang memungkinkan Anda menjalankan proses di *semua* GPU)."
      ]
    },
    {
      "cell_type": "markdown",
      "metadata": {
        "id": "XqQLcuj68OA-"
      },
      "source": [
        "### 3. Putting tensors (and models) on the GPU\n",
        "\n",
        "Anda dapat menempatkan tensor (dan model, kita akan melihatnya nanti) pada perangkat tertentu dengan memanggil [`to(device)`](https://pytorch.org/docs/stable/generated/torch.Tensor.to. html) pada mereka. Dimana `device` adalah perangkat target yang ingin dituju tensor (atau modelnya).\n",
        "\n",
        "Kenapa melakukan ini?\n",
        "\n",
        "GPU menawarkan komputasi numerik yang jauh lebih cepat daripada CPU dan jika GPU tidak tersedia, karena **kode agnostik perangkat** kami (lihat di atas), GPU akan berjalan di CPU.\n",
        "\n",
        "> **Catatan:** Menempatkan tensor pada GPU menggunakan `to(device)` (mis. `some_tensor.to(device)`) akan mengembalikan salinan tensor tersebut, mis. tensor yang sama akan ada di CPU dan GPU. Untuk menimpa tensor, tetapkan ulang tensor:\n",
        ">\n",
        "> `some_tensor = some_tensor.to(perangkat)`\n",
        "\n",
        "Mari kita coba membuat tensor dan meletakkannya di GPU (jika tersedia)."
      ]
    },
    {
      "cell_type": "code",
      "execution_count": null,
      "metadata": {
        "id": "FhI3srFXEHfP",
        "colab": {
          "base_uri": "https://localhost:8080/"
        },
        "outputId": "d1b86df8-8f07-4a5b-f17c-bb21b21263f3"
      },
      "outputs": [
        {
          "output_type": "stream",
          "name": "stdout",
          "text": [
            "tensor([1, 2, 3]) cpu\n"
          ]
        },
        {
          "output_type": "execute_result",
          "data": {
            "text/plain": [
              "tensor([1, 2, 3], device='cuda:0')"
            ]
          },
          "metadata": {},
          "execution_count": 76
        }
      ],
      "source": [
        "# Create tensor (default on CPU)\n",
        "tensor = torch.tensor([1, 2, 3])\n",
        "\n",
        "# Tensor not on GPU\n",
        "print(tensor, tensor.device)\n",
        "\n",
        "# Move tensor to GPU (if available)\n",
        "tensor_on_gpu = tensor.to(device)\n",
        "tensor_on_gpu"
      ]
    },
    {
      "cell_type": "markdown",
      "metadata": {
        "id": "DxXeRKO0TGfG"
      },
      "source": [
        "Jika Anda memiliki GPU yang tersedia, kode di atas akan menampilkan sesuatu seperti:\n",
        "\n",
        "```\n",
        "tensor([1, 2, 3]) cpu\n",
        "tensor([1, 2, 3], perangkat='cuda:0')\n",
        "```\n",
        "\n",
        "Perhatikan tensor kedua memiliki `device='cuda:0'`, artinya disimpan pada GPU ke-0 yang tersedia (GPU diindeks 0, jika ada dua GPU yang tersedia, maka akan menjadi `'cuda:0'` dan `' cuda:1'` masing-masing, hingga `'cuda:n'`)."
      ]
    },
    {
      "cell_type": "markdown",
      "metadata": {
        "id": "4puyUX4Bci5D"
      },
      "source": [
        "### 4. Moving tensors back to the CPU\n",
        "\n",
        "Bagaimana jika kita ingin memindahkan tensor kembali ke CPU?\n",
        "\n",
        "Misalnya, Anda ingin melakukan ini jika ingin berinteraksi dengan tensor Anda dengan NumPy (NumPy tidak memanfaatkan GPU).\n",
        "\n",
        "Mari kita coba menggunakan metode [`torch.Tensor.numpy()`](https://pytorch.org/docs/stable/generated/torch.Tensor.numpy.html) pada `tensor_on_gpu` kita."
      ]
    },
    {
      "cell_type": "code",
      "execution_count": null,
      "metadata": {
        "id": "3ChSLJgPTGfG",
        "colab": {
          "base_uri": "https://localhost:8080/",
          "height": 193
        },
        "outputId": "fd491295-db75-46ce-bf66-e34c62304d04"
      },
      "outputs": [
        {
          "output_type": "error",
          "ename": "TypeError",
          "evalue": "ignored",
          "traceback": [
            "\u001b[0;31m---------------------------------------------------------------------------\u001b[0m",
            "\u001b[0;31mTypeError\u001b[0m                                 Traceback (most recent call last)",
            "\u001b[0;32m<ipython-input-77-53175578f49e>\u001b[0m in \u001b[0;36m<cell line: 2>\u001b[0;34m()\u001b[0m\n\u001b[1;32m      1\u001b[0m \u001b[0;31m# If tensor is on GPU, can't transform it to NumPy (this will error)\u001b[0m\u001b[0;34m\u001b[0m\u001b[0;34m\u001b[0m\u001b[0m\n\u001b[0;32m----> 2\u001b[0;31m \u001b[0mtensor_on_gpu\u001b[0m\u001b[0;34m.\u001b[0m\u001b[0mnumpy\u001b[0m\u001b[0;34m(\u001b[0m\u001b[0;34m)\u001b[0m\u001b[0;34m\u001b[0m\u001b[0;34m\u001b[0m\u001b[0m\n\u001b[0m",
            "\u001b[0;31mTypeError\u001b[0m: can't convert cuda:0 device type tensor to numpy. Use Tensor.cpu() to copy the tensor to host memory first."
          ]
        }
      ],
      "source": [
        "# If tensor is on GPU, can't transform it to NumPy (this will error)\n",
        "tensor_on_gpu.numpy()"
      ]
    },
    {
      "cell_type": "markdown",
      "metadata": {
        "id": "LhymtkRDTGfG"
      },
      "source": [
        "Sebagai gantinya, untuk mengembalikan tensor ke CPU dan dapat digunakan dengan NumPy, kita dapat menggunakan [`Tensor.cpu()`](https://pytorch.org/docs/stable/generated/torch.Tensor.cpu.html).\n",
        "\n",
        "Ini menyalin tensor ke memori CPU sehingga dapat digunakan dengan CPU."
      ]
    },
    {
      "cell_type": "code",
      "execution_count": null,
      "metadata": {
        "id": "gN15s-NdTGfG",
        "colab": {
          "base_uri": "https://localhost:8080/"
        },
        "outputId": "a4f1a0f4-96d5-47c0-e066-2fabec409876"
      },
      "outputs": [
        {
          "output_type": "execute_result",
          "data": {
            "text/plain": [
              "array([1, 2, 3])"
            ]
          },
          "metadata": {},
          "execution_count": 78
        }
      ],
      "source": [
        "# Instead, copy the tensor back to cpu\n",
        "tensor_back_on_cpu = tensor_on_gpu.cpu().numpy()\n",
        "tensor_back_on_cpu"
      ]
    },
    {
      "cell_type": "markdown",
      "metadata": {
        "id": "qyzNH5lrTGfH"
      },
      "source": [
        "Cara di atas mengembalikan salinan tensor GPU di memori CPU sehingga tensor asli masih di GPU."
      ]
    },
    {
      "cell_type": "code",
      "execution_count": null,
      "metadata": {
        "id": "S5u83PCRTGfH",
        "colab": {
          "base_uri": "https://localhost:8080/"
        },
        "outputId": "98014172-244d-492e-988a-36be5ce4ed3b"
      },
      "outputs": [
        {
          "output_type": "execute_result",
          "data": {
            "text/plain": [
              "tensor([1, 2, 3], device='cuda:0')"
            ]
          },
          "metadata": {},
          "execution_count": 79
        }
      ],
      "source": [
        "tensor_on_gpu"
      ]
    }
  ],
  "metadata": {
    "accelerator": "GPU",
    "colab": {
      "provenance": [],
      "toc_visible": true,
      "gpuType": "T4",
      "include_colab_link": true
    },
    "interpreter": {
      "hash": "3fbe1355223f7b2ffc113ba3ade6a2b520cadace5d5ec3e828c83ce02eb221bf"
    },
    "kernelspec": {
      "display_name": "Python 3",
      "name": "python3"
    },
    "language_info": {
      "codemirror_mode": {
        "name": "ipython",
        "version": 3
      },
      "file_extension": ".py",
      "mimetype": "text/x-python",
      "name": "python",
      "nbconvert_exporter": "python",
      "pygments_lexer": "ipython3",
      "version": "3.8.13"
    }
  },
  "nbformat": 4,
  "nbformat_minor": 0
}